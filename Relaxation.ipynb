{
 "cells": [
  {
   "cell_type": "markdown",
   "metadata": {},
   "source": [
    "# Imports"
   ]
  },
  {
   "cell_type": "code",
   "execution_count": 39,
   "metadata": {},
   "outputs": [],
   "source": [
    "import numpy as np\n",
    "from scipy.optimize import minimize\n",
    "import random\n",
    "import multiprocessing\n",
    "\n",
    "import cvxpy as cp"
   ]
  },
  {
   "cell_type": "code",
   "execution_count": 2,
   "metadata": {},
   "outputs": [],
   "source": [
    "np.random.seed(1)"
   ]
  },
  {
   "cell_type": "markdown",
   "metadata": {},
   "source": [
    "# Create random Reachable sets"
   ]
  },
  {
   "cell_type": "code",
   "execution_count": 3,
   "metadata": {},
   "outputs": [],
   "source": [
    "c = 25 # cache capacity\n",
    "k = 5 # each user should be in at most K reachable sets\n",
    "m = 2 # at most M items can be initially recommended to each user\n",
    "number_of_items = 10\n",
    "number_of_users = 12\n",
    "items= np.array(range(0,number_of_items)) # videos\n",
    "users = np.array(range(0,number_of_users)) # users\n",
    "# initialize x0 for the optimization\n",
    "x = np.full(len(items),0.5)\n",
    "y = np.full((len(items), len(users)),0.5)\n",
    "x0 = np.concatenate([x.flatten(), y.flatten()])\n",
    "# Random Reachable sets\n",
    "reachable_sets = np.array(np.array([[np.array(random.sample(list(users), random.choice(users))) for user in users] for i in items]))\n",
    "I = np.zeros((len(items), len(users), len(users)))\n",
    "for i in items:\n",
    "    for u in users:\n",
    "        for v in reachable_sets[i][u]:\n",
    "            I[i][u][v] = 1"
   ]
  },
  {
   "cell_type": "markdown",
   "metadata": {},
   "source": [
    "# Objective function"
   ]
  },
  {
   "cell_type": "code",
   "execution_count": 13,
   "metadata": {},
   "outputs": [],
   "source": [
    "def objective(z):\n",
    "    x = z[:len(items)]\n",
    "    y = z[len(items):].reshape(len(items),len(users))\n",
    "    \n",
    "    #The first term in (1) counts the users to which an item is \n",
    "    #initially recommended and the users in the ensuing reachable sets\n",
    "    #first_term = sum([(1+len(reachable_sets[i][u])) * y[i][u] for u in users])\n",
    "    #The second term in (1) is due to the overlap of reachable sets Riu,Riv\n",
    "    #second_term = 0.5*sum([sum([len(set(reachable_sets[i][u])&set(reachable_sets[i][v]))*y[i][u]*y[i][v] for v in users if v!=u]) for u in users])\n",
    "    # Ekfonisi\n",
    "    #return -sum([x[i]*(sum([(1+len(reachable_sets[i][u])) * y[i][u] for u in users]) - 0.5*sum([sum([len(set(reachable_sets[i][u])&set(reachable_sets[i][v]))*y[i][u]*y[i][v] for v in users if v!=u]) for u in users])) for i in items])\n",
    "    # Paper\n",
    "    return -sum([x[i]*sum([(1+len(reachable_sets[i][u])) * y[i][u] - 0.5*sum([len(set(reachable_sets[i][u])&set(reachable_sets[i][v]))*y[i][u]*y[i][v] for v in users if v!=u]) for u in users]) for i in items])"
   ]
  },
  {
   "cell_type": "markdown",
   "metadata": {},
   "source": [
    "# Constraint (2) is the cache capacity constraint"
   ]
  },
  {
   "cell_type": "code",
   "execution_count": 4,
   "metadata": {},
   "outputs": [],
   "source": [
    "def constraint2(z):  \n",
    "    x = z[:len(items)]\n",
    "    \n",
    "    return sum([x[i] for i in items]) - c"
   ]
  },
  {
   "cell_type": "markdown",
   "metadata": {},
   "source": [
    "# Constraint (3) says that at most M items can be initially recommended to each user"
   ]
  },
  {
   "cell_type": "code",
   "execution_count": 5,
   "metadata": {},
   "outputs": [],
   "source": [
    "def constraint3(z):  \n",
    "    y = z[len(items):].reshape(len(items),len(users))\n",
    "    \n",
    "    return [(-sum([y[i][u] for i in items]))+m for u in users]"
   ]
  },
  {
   "cell_type": "markdown",
   "metadata": {},
   "source": [
    "# Constraint (4) says that each user should be in at most K reachable sets these capture content consumption, attention span or time constraints"
   ]
  },
  {
   "cell_type": "code",
   "execution_count": 6,
   "metadata": {},
   "outputs": [],
   "source": [
    "def constraint4(z):  \n",
    "    y = z[len(items):].reshape(len(items),len(users))\n",
    "    \n",
    "    return [-sum([sum([I[i][u][v]*y[i][u] for u in users]) for i in items])+k for u in users]"
   ]
  },
  {
   "cell_type": "markdown",
   "metadata": {},
   "source": [
    "# Solve"
   ]
  },
  {
   "cell_type": "code",
   "execution_count": 14,
   "metadata": {
    "scrolled": false
   },
   "outputs": [
    {
     "name": "stdout",
     "output_type": "stream",
     "text": [
      "Initial Objective: 6.5\n"
     ]
    }
   ],
   "source": [
    "con2 = {'type': 'eq', 'fun': constraint2} \n",
    "con3 = {'type': 'ineq', 'fun': constraint3} \n",
    "con4 = {'type': 'ineq', 'fun': constraint4} \n",
    "cons = ([con2, con3, con4])\n",
    "# Bounds\n",
    "b = (0.0,1.0)\n",
    "bnds = [b for i in range(len(x0))]\n",
    "\n",
    "# show initial objective\n",
    "print('Initial Objective: ' + str(-1*objective(x0)))\n",
    "\n",
    "solution = minimize(objective, x0, method='SLSQP', bounds=bnds, constraints=cons)"
   ]
  },
  {
   "cell_type": "code",
   "execution_count": 15,
   "metadata": {},
   "outputs": [
    {
     "name": "stdout",
     "output_type": "stream",
     "text": [
      "Final Objective: 139.25143468912935\n"
     ]
    }
   ],
   "source": [
    "x = solution.x\n",
    "\n",
    "# show final objective\n",
    "print('Final Objective: ' + str(-1*objective(x)))"
   ]
  },
  {
   "cell_type": "code",
   "execution_count": 16,
   "metadata": {},
   "outputs": [
    {
     "data": {
      "text/plain": [
       "     fun: -139.25143468912935\n",
       "     jac: array([-1.49977245e+01, -1.20000019e+01, -1.30000000e+01, -1.40005589e+01,\n",
       "       -1.39978580e+01, -1.30047150e+01, -1.47501945e+01, -1.49999981e+01,\n",
       "       -1.27501965e+01, -1.57501945e+01, -4.00000000e+00,  1.00000000e+00,\n",
       "       -1.00000000e+00,  1.00000000e+00, -2.00000000e+00,  0.00000000e+00,\n",
       "       -1.00000000e+00, -5.00000000e+00,  1.00000000e+00,  0.00000000e+00,\n",
       "        1.00000000e+00,  0.00000000e+00,  2.00000000e+00,  0.00000000e+00,\n",
       "       -1.00000000e+00, -4.00000000e+00, -4.00000000e+00,  0.00000000e+00,\n",
       "        0.00000000e+00,  1.00000000e+00,  2.00000000e+00,  1.00000000e+00,\n",
       "        0.00000000e+00, -1.00000000e+00,  4.99998665e+00,  9.99996185e-01,\n",
       "       -1.00000000e+00,  1.99999046e+00,  1.99999237e+00, -3.81469727e-06,\n",
       "        9.99996185e-01, -2.00000000e+00, -3.81469727e-06, -5.00001335e+00,\n",
       "        2.99999237e+00, -1.00000000e+00,  0.00000000e+00,  0.00000000e+00,\n",
       "        2.00000000e+00, -4.00000000e+00,  4.00000000e+00,  3.00000000e+00,\n",
       "        3.00000000e+00, -3.00000000e+00,  3.00000000e+00, -1.00000000e+00,\n",
       "       -1.00000000e+00, -1.00000000e+00, -9.99916077e-01, -9.99746323e-01,\n",
       "       -9.99744415e-01, -1.49957275e+00, -1.49948692e+00, -1.99991608e+00,\n",
       "       -1.00000000e+00, -9.99744415e-01, -1.19995747e+01, -9.99914169e-01,\n",
       "       -9.99916077e-01, -1.49999809e+00,  4.71305847e-03, -2.00000000e+00,\n",
       "       -7.99057388e+00,  2.00471306e+00,  1.00942612e+00, -1.00000000e+00,\n",
       "       -1.00000000e+00,  4.71305847e-03,  9.42611694e-03, -2.00000000e+00,\n",
       "       -9.90573883e-01,  9.42611694e-03,  0.00000000e+00,  2.00000000e+00,\n",
       "       -1.00000000e+00,  0.00000000e+00,  0.00000000e+00,  3.00000000e+00,\n",
       "        5.00000000e+00,  2.00000000e+00,  5.00000000e+00, -1.00000000e+00,\n",
       "       -2.00000000e+00, -5.00000000e+00, -3.00000191e+00, -1.90734863e-06,\n",
       "       -1.00000000e+00, -1.00000000e+00,  0.00000000e+00, -4.00000000e+00,\n",
       "        2.00000000e+00,  2.00000000e+00, -2.00000000e+00, -1.00000000e+00,\n",
       "       -2.00000000e+00, -1.00000000e+00, -1.00000000e+00,  0.00000000e+00,\n",
       "       -1.00000000e+00, -2.00000000e+00, -2.00000000e+00, -7.99999619e+00,\n",
       "        3.81469727e-06, -9.99998093e-01, -1.00000000e+00, -1.00000000e+00,\n",
       "       -2.00000000e+00, -1.99999619e+00,  4.00000000e+00, -3.00000000e+00,\n",
       "       -2.00000000e+00,  5.00000000e+00,  4.00000000e+00,  4.00000000e+00,\n",
       "        0.00000000e+00,  5.00000000e+00,  0.00000000e+00, -1.00000000e+00,\n",
       "        1.00000000e+00, -3.00000000e+00])\n",
       " message: 'Optimization terminated successfully.'\n",
       "    nfev: 4082\n",
       "     nit: 34\n",
       "    njev: 30\n",
       "  status: 0\n",
       " success: True\n",
       "       x: array([1.00000000e+00, 1.00000000e+00, 1.00000000e+00, 1.00000000e+00,\n",
       "       1.00000000e+00, 1.00000000e+00, 1.00000000e+00, 1.00000000e+00,\n",
       "       1.00000000e+00, 1.00000000e+00, 1.00000000e+00, 9.47042561e-19,\n",
       "       2.49744373e-12, 3.19766135e-17, 1.00000000e+00, 2.17788536e-16,\n",
       "       9.97724104e-01, 1.00000000e+00, 0.00000000e+00, 1.36047350e-13,\n",
       "       0.00000000e+00, 4.26972759e-14, 0.00000000e+00, 2.95918667e-16,\n",
       "       1.32954335e-06, 1.00000000e+00, 1.00000000e+00, 4.39907798e-14,\n",
       "       5.77746960e-15, 6.09445734e-17, 0.00000000e+00, 3.36038782e-15,\n",
       "       5.05374956e-17, 1.85690064e-12, 0.00000000e+00, 0.00000000e+00,\n",
       "       9.99998065e-01, 0.00000000e+00, 0.00000000e+00, 1.70613743e-16,\n",
       "       0.00000000e+00, 1.39246627e-09, 2.07291591e-14, 1.00000000e+00,\n",
       "       0.00000000e+00, 2.03900810e-12, 2.56121945e-16, 9.45501806e-17,\n",
       "       0.00000000e+00, 1.00000000e+00, 2.22833544e-19, 0.00000000e+00,\n",
       "       2.22833544e-17, 1.00000000e+00, 0.00000000e+00, 7.50193477e-01,\n",
       "       2.50364706e-01, 2.06037698e-12, 2.08577748e-12, 2.80871701e-07,\n",
       "       2.29012833e-12, 3.07971085e-12, 3.15857336e-12, 5.00002399e-01,\n",
       "       9.97724101e-01, 2.10025892e-12, 1.00000000e+00, 2.03026777e-12,\n",
       "       2.06092097e-12, 8.50851471e-05, 0.00000000e+00, 1.00000000e+00,\n",
       "       1.00000000e+00, 0.00000000e+00, 0.00000000e+00, 2.15320025e-12,\n",
       "       4.71368566e-03, 5.52482142e-15, 0.00000000e+00, 8.71324926e-09,\n",
       "       2.04301446e-12, 1.28629336e-16, 1.78685442e-15, 0.00000000e+00,\n",
       "       1.30742189e-06, 2.99777907e-16, 7.98622867e-18, 6.57358954e-18,\n",
       "       0.00000000e+00, 1.34814294e-17, 1.54869313e-17, 7.50193477e-01,\n",
       "       1.00000000e+00, 1.00000000e+00, 1.00000000e+00, 1.93503889e-14,\n",
       "       9.99998417e-01, 3.06666418e-09, 9.19956068e-16, 1.00000000e+00,\n",
       "       0.00000000e+00, 1.33700126e-17, 1.00000000e+00, 2.04588228e-12,\n",
       "       4.50633314e-12, 2.01869054e-12, 2.09992765e-07, 1.13416329e-14,\n",
       "       1.32958998e-06, 4.13901317e-12, 5.99558583e-07, 1.00000000e+00,\n",
       "       5.07444535e-15, 2.08503045e-12, 5.56940812e-10, 7.50193074e-01,\n",
       "       1.00000000e+00, 4.14041674e-12, 0.00000000e+00, 1.00000000e+00,\n",
       "       1.00000000e+00, 0.00000000e+00, 0.00000000e+00, 0.00000000e+00,\n",
       "       1.27822006e-14, 0.00000000e+00, 2.54081095e-15, 7.50193477e-01,\n",
       "       0.00000000e+00, 1.00000000e+00])"
      ]
     },
     "execution_count": 16,
     "metadata": {},
     "output_type": "execute_result"
    }
   ],
   "source": [
    "solution"
   ]
  },
  {
   "cell_type": "code",
   "execution_count": 17,
   "metadata": {},
   "outputs": [
    {
     "data": {
      "text/plain": [
       "(130,)"
      ]
     },
     "execution_count": 17,
     "metadata": {},
     "output_type": "execute_result"
    }
   ],
   "source": [
    "solution.x.shape"
   ]
  },
  {
   "cell_type": "code",
   "execution_count": 18,
   "metadata": {},
   "outputs": [],
   "source": [
    "x = solution.x[:len(items)].round()\n",
    "y = solution.x[len(items):].reshape(len(items),len(users)).round()"
   ]
  },
  {
   "cell_type": "markdown",
   "metadata": {},
   "source": [
    "# Solution"
   ]
  },
  {
   "cell_type": "markdown",
   "metadata": {},
   "source": [
    "## Items in cache"
   ]
  },
  {
   "cell_type": "code",
   "execution_count": 19,
   "metadata": {},
   "outputs": [
    {
     "data": {
      "text/plain": [
       "array([1., 1., 1., 1., 1., 1., 1., 1., 1., 1.])"
      ]
     },
     "execution_count": 19,
     "metadata": {},
     "output_type": "execute_result"
    }
   ],
   "source": [
    "x"
   ]
  },
  {
   "cell_type": "markdown",
   "metadata": {},
   "source": [
    "## Recommended items"
   ]
  },
  {
   "cell_type": "code",
   "execution_count": 20,
   "metadata": {},
   "outputs": [
    {
     "data": {
      "text/plain": [
       "array([[1., 0., 0., 0., 1., 0., 1., 1., 0., 0., 0., 0.],\n",
       "       [0., 0., 0., 1., 1., 0., 0., 0., 0., 0., 0., 0.],\n",
       "       [0., 0., 1., 0., 0., 0., 0., 0., 0., 1., 0., 0.],\n",
       "       [0., 0., 0., 1., 0., 0., 0., 1., 0., 1., 0., 0.],\n",
       "       [0., 0., 0., 0., 0., 1., 1., 0., 1., 0., 0., 0.],\n",
       "       [0., 1., 1., 0., 0., 0., 0., 0., 0., 0., 0., 0.],\n",
       "       [0., 0., 0., 0., 0., 0., 0., 0., 0., 1., 1., 1.],\n",
       "       [1., 0., 1., 0., 0., 1., 0., 0., 1., 0., 0., 0.],\n",
       "       [0., 0., 0., 0., 0., 1., 0., 0., 0., 1., 1., 0.],\n",
       "       [0., 1., 1., 0., 0., 0., 0., 0., 0., 1., 0., 1.]])"
      ]
     },
     "execution_count": 20,
     "metadata": {},
     "output_type": "execute_result"
    }
   ],
   "source": [
    "y"
   ]
  },
  {
   "cell_type": "code",
   "execution_count": 47,
   "metadata": {},
   "outputs": [
    {
     "data": {
      "text/plain": [
       "(10, 12)"
      ]
     },
     "execution_count": 47,
     "metadata": {},
     "output_type": "execute_result"
    }
   ],
   "source": [
    "y.shape"
   ]
  },
  {
   "cell_type": "code",
   "execution_count": null,
   "metadata": {},
   "outputs": [],
   "source": [
    "x = cp.Variable(x.shape)\n",
    "y = cp.Variable(y.shape)\n",
    "prob = cp.Problem(cp.Maximize(cp.sum(x*cp.sum())),\n",
    "                 [x<=1,\n",
    "                  x>=0,\n",
    "                  y<=1,\n",
    "                  y>=0\n",
    "                     \n",
    "#                   sum([x[i] for i in items]) == c,\n",
    "#                  [sum([y[i][u] for i in items]) <= m for u in users],\n",
    "#                  [sum([sum([I[i][u][v]*y[i][u] for u in users]) for i in items]) <= k for u in users]\n",
    "                  ])\n",
    "prob.solve()"
   ]
  },
  {
   "cell_type": "code",
   "execution_count": null,
   "metadata": {},
   "outputs": [],
   "source": []
  }
 ],
 "metadata": {
  "kernelspec": {
   "display_name": "env",
   "language": "python",
   "name": "env"
  },
  "language_info": {
   "codemirror_mode": {
    "name": "ipython",
    "version": 3
   },
   "file_extension": ".py",
   "mimetype": "text/x-python",
   "name": "python",
   "nbconvert_exporter": "python",
   "pygments_lexer": "ipython3",
   "version": "3.5.2"
  }
 },
 "nbformat": 4,
 "nbformat_minor": 2
}
