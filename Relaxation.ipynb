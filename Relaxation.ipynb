{
 "cells": [
  {
   "cell_type": "markdown",
   "metadata": {},
   "source": [
    "# Imports"
   ]
  },
  {
   "cell_type": "code",
   "execution_count": 1,
   "metadata": {},
   "outputs": [],
   "source": [
    "import numpy as np\n",
    "from scipy.optimize import minimize\n",
    "import random\n",
    "import multiprocessing\n",
    "\n",
    "import cvxpy as cp"
   ]
  },
  {
   "cell_type": "code",
   "execution_count": 2,
   "metadata": {},
   "outputs": [],
   "source": [
    "np.random.seed(1)"
   ]
  },
  {
   "cell_type": "markdown",
   "metadata": {},
   "source": [
    "# Create random Reachable sets"
   ]
  },
  {
   "cell_type": "code",
   "execution_count": 18,
   "metadata": {},
   "outputs": [],
   "source": [
    "c = 5 # cache capacity\n",
    "k = 5 # each user should be in at most K reachable sets\n",
    "m = 2 # at most M items can be initially recommended to each user\n",
    "L = 5 # the total number of items that the user will receive either through \n",
    "# direct recommendation or indirectly (because it is in reachable sets of users to whom items \n",
    "#have been recommended) should not be more than L\n",
    "number_of_items = 10\n",
    "number_of_users = 12\n",
    "items= np.array(range(0,number_of_items)) # videos\n",
    "users = np.array(range(0,number_of_users)) # users\n",
    "# initialize x0 for the optimization\n",
    "x = np.full(len(items),0.5)\n",
    "y = np.full((len(items), len(users)),0.5)\n",
    "x0 = np.concatenate([x.flatten(), y.flatten()])\n",
    "# Random Reachable sets\n",
    "reachable_sets = np.array(np.array([[np.array(random.sample(list(users), random.choice(users))) for user in users] for i in items]))\n",
    "I = np.zeros((len(items), len(users), len(users)))\n",
    "for i in items:\n",
    "    for u in users:\n",
    "        for v in reachable_sets[i][u]:\n",
    "            I[i][u][v] = 1"
   ]
  },
  {
   "cell_type": "markdown",
   "metadata": {},
   "source": [
    "# Objective function"
   ]
  },
  {
   "cell_type": "code",
   "execution_count": 4,
   "metadata": {},
   "outputs": [],
   "source": [
    "def objective(z):\n",
    "    x = z[:len(items)]\n",
    "    y = z[len(items):].reshape(len(items),len(users))\n",
    "    \n",
    "    #The first term in (1) counts the users to which an item is \n",
    "    #initially recommended and the users in the ensuing reachable sets\n",
    "    #first_term = sum([(1+len(reachable_sets[i][u])) * y[i][u] for u in users])\n",
    "    #The second term in (1) is due to the overlap of reachable sets Riu,Riv\n",
    "    #second_term = 0.5*sum([sum([len(set(reachable_sets[i][u])&set(reachable_sets[i][v]))*y[i][u]*y[i][v] for v in users if v!=u]) for u in users])\n",
    "    # Ekfonisi\n",
    "    #return -sum([x[i]*(sum([(1+len(reachable_sets[i][u])) * y[i][u] for u in users]) - 0.5*sum([sum([len(set(reachable_sets[i][u])&set(reachable_sets[i][v]))*y[i][u]*y[i][v] for v in users if v!=u]) for u in users])) for i in items])\n",
    "    # Paper\n",
    "    return -sum([x[i]*sum([(1+len(reachable_sets[i][u])) * y[i][u] - 0.5*sum([len(set(reachable_sets[i][u])&set(reachable_sets[i][v]))*y[i][u]*y[i][v] for v in users if v!=u]) for u in users]) for i in items])"
   ]
  },
  {
   "cell_type": "markdown",
   "metadata": {},
   "source": [
    "# Constraint (2) is the cache capacity constraint"
   ]
  },
  {
   "cell_type": "code",
   "execution_count": 5,
   "metadata": {},
   "outputs": [],
   "source": [
    "def constraint2(z):  \n",
    "    x = z[:len(items)]\n",
    "    \n",
    "    return sum([x[i] for i in items]) - c"
   ]
  },
  {
   "cell_type": "markdown",
   "metadata": {},
   "source": [
    "# Constraint (3) says that at most M items can be initially recommended to each user"
   ]
  },
  {
   "cell_type": "code",
   "execution_count": 6,
   "metadata": {},
   "outputs": [],
   "source": [
    "def constraint3(z):  \n",
    "    y = z[len(items):].reshape(len(items),len(users))\n",
    "    \n",
    "    return [(-sum([y[i][u] for i in items]))+m for u in users]"
   ]
  },
  {
   "cell_type": "markdown",
   "metadata": {},
   "source": [
    "# Constraint (4) says that each user should be in at most K reachable sets these capture content consumption, attention span or time constraints"
   ]
  },
  {
   "cell_type": "code",
   "execution_count": 7,
   "metadata": {},
   "outputs": [],
   "source": [
    "def constraint4(z):  \n",
    "    y = z[len(items):].reshape(len(items),len(users))\n",
    "    \n",
    "    return [-sum([sum([I[i][u][v]*y[i][u] for u in users]) for i in items])+k for u in users]"
   ]
  },
  {
   "cell_type": "markdown",
   "metadata": {},
   "source": [
    "# Constraint (6) says that the total number of items that the user will receive either through direct recommendation or indirectly (because it is in reachable sets of users to whom items have been recommended) should not be more than L"
   ]
  },
  {
   "cell_type": "code",
   "execution_count": 26,
   "metadata": {},
   "outputs": [],
   "source": [
    "def constraint6(z):\n",
    "    y = z[len(items):].reshape(len(items),len(users))\n",
    "    \n",
    "\n",
    "    return [-sum([y[i][u] for i in items]) - sum([sum([I[i][u][v]*y[i][u] for u in users]) for i in items])+L for u in users]"
   ]
  },
  {
   "cell_type": "markdown",
   "metadata": {},
   "source": [
    "# Solve"
   ]
  },
  {
   "cell_type": "code",
   "execution_count": 27,
   "metadata": {
    "scrolled": false
   },
   "outputs": [
    {
     "name": "stdout",
     "output_type": "stream",
     "text": [
      "Initial Objective: -7.75\n"
     ]
    }
   ],
   "source": [
    "con2 = {'type': 'eq', 'fun': constraint2} \n",
    "con3 = {'type': 'ineq', 'fun': constraint3} \n",
    "con4 = {'type': 'ineq', 'fun': constraint4} \n",
    "con6 = {'type': 'ineq', 'fun': constraint6}\n",
    "cons = ([con2, con6])\n",
    "# Bounds\n",
    "b = (0.0,1.0)\n",
    "bnds = [b for i in range(len(x0))]\n",
    "\n",
    "# show initial objective\n",
    "print('Initial Objective: ' + str(-1*objective(x0)))\n",
    "\n",
    "solution = minimize(objective, x0, method='SLSQP', bounds=bnds, constraints=cons)"
   ]
  },
  {
   "cell_type": "code",
   "execution_count": 28,
   "metadata": {},
   "outputs": [
    {
     "name": "stdout",
     "output_type": "stream",
     "text": [
      "Final Objective: 78.0000000000051\n"
     ]
    }
   ],
   "source": [
    "x = solution.x\n",
    "\n",
    "# show final objective\n",
    "print('Final Objective: ' + str(-1*objective(x)))"
   ]
  },
  {
   "cell_type": "code",
   "execution_count": 29,
   "metadata": {},
   "outputs": [
    {
     "data": {
      "text/plain": [
       "     fun: -78.0000000000051\n",
       "     jac: array([-1.70000000e+01, -1.57962284e+01, -1.40001154e+01, -5.11643410e+00,\n",
       "       -6.12223339e+00, -4.31639194e+00, -1.62036572e+01, -1.29999142e+01,\n",
       "       -3.20448208e+00, -1.50000000e+01, -1.00000000e+00, -1.00000000e+00,\n",
       "        0.00000000e+00, -1.00000000e+00, -7.99999905e+00,  1.00000095e+00,\n",
       "       -2.00000000e+00,  1.00000000e+00,  3.00000095e+00,  2.00000000e+00,\n",
       "       -1.00000000e+00,  0.00000000e+00,  7.96228409e-01, -1.00000000e+00,\n",
       "       -2.03771591e-01,  0.00000000e+00, -1.00000000e+00, -1.00000000e+00,\n",
       "       -1.00000000e+00, -3.20377159e+00, -3.00000000e+00, -1.00000000e+00,\n",
       "       -3.00000000e+00,  0.00000000e+00, -1.00000000e+00, -1.00000000e+00,\n",
       "       -9.99827385e-01, -2.99982738e+00, -1.99997139e+00, -5.99988556e+00,\n",
       "       -9.99827385e-01, -4.00000000e+00, -1.00000000e+00,  1.72615051e-04,\n",
       "       -9.99798775e-01, -1.99982738e+00,  0.00000000e+00,  0.00000000e+00,\n",
       "        0.00000000e+00,  0.00000000e+00,  0.00000000e+00,  0.00000000e+00,\n",
       "        0.00000000e+00,  0.00000000e+00,  0.00000000e+00,  0.00000000e+00,\n",
       "        0.00000000e+00,  0.00000000e+00,  0.00000000e+00,  0.00000000e+00,\n",
       "        0.00000000e+00,  0.00000000e+00,  0.00000000e+00,  0.00000000e+00,\n",
       "        0.00000000e+00,  0.00000000e+00,  0.00000000e+00,  0.00000000e+00,\n",
       "        0.00000000e+00,  0.00000000e+00,  0.00000000e+00,  0.00000000e+00,\n",
       "        0.00000000e+00,  0.00000000e+00,  0.00000000e+00,  0.00000000e+00,\n",
       "        0.00000000e+00,  0.00000000e+00,  0.00000000e+00,  0.00000000e+00,\n",
       "        0.00000000e+00,  0.00000000e+00, -5.81741333e-05, -4.00000000e+00,\n",
       "       -1.00000000e+00, -6.00002956e+00, -1.00000000e+00,  1.99988461e+00,\n",
       "       -1.15394592e-04, -8.67843628e-05,  9.99913216e-01, -1.00000000e+00,\n",
       "       -1.00000000e+00,  9.99913216e-01,  0.00000000e+00,  0.00000000e+00,\n",
       "        0.00000000e+00,  0.00000000e+00,  0.00000000e+00,  0.00000000e+00,\n",
       "        0.00000000e+00,  0.00000000e+00,  0.00000000e+00,  0.00000000e+00,\n",
       "        0.00000000e+00,  0.00000000e+00,  0.00000000e+00,  0.00000000e+00,\n",
       "        0.00000000e+00,  0.00000000e+00,  0.00000000e+00,  0.00000000e+00,\n",
       "        0.00000000e+00,  0.00000000e+00,  0.00000000e+00,  0.00000000e+00,\n",
       "        0.00000000e+00,  0.00000000e+00,  3.00000000e+00,  5.00000000e+00,\n",
       "        1.00000000e+00, -2.00000000e+00,  3.00000000e+00,  5.00000000e+00,\n",
       "       -1.00000000e+00, -2.00000000e+00,  0.00000000e+00, -1.00000000e+00,\n",
       "       -1.00000000e+00,  1.00000000e+00])\n",
       " message: 'Optimization terminated successfully.'\n",
       "    nfev: 2653\n",
       "     nit: 21\n",
       "    njev: 20\n",
       "  status: 0\n",
       " success: True\n",
       "       x: array([1.00000000e+00, 1.00000000e+00, 1.00000000e+00, 0.00000000e+00,\n",
       "       0.00000000e+00, 0.00000000e+00, 1.00000000e+00, 1.46100305e-13,\n",
       "       0.00000000e+00, 1.00000000e+00, 1.00000000e+00, 7.06117280e-14,\n",
       "       6.68796601e-07, 1.00000000e+00, 1.00000000e+00, 0.00000000e+00,\n",
       "       1.00000000e+00, 0.00000000e+00, 0.00000000e+00, 0.00000000e+00,\n",
       "       9.99999949e-01, 0.00000000e+00, 0.00000000e+00, 5.87702634e-14,\n",
       "       4.06369075e-15, 0.00000000e+00, 7.96228498e-01, 5.12923037e-14,\n",
       "       1.00000000e+00, 1.00000000e+00, 1.00000000e+00, 1.00000000e+00,\n",
       "       1.00000000e+00, 6.09361425e-15, 1.00000000e+00, 1.00000000e+00,\n",
       "       5.40938357e-14, 1.74822746e-13, 1.00000000e+00, 1.00000000e+00,\n",
       "       5.86743537e-14, 2.87582541e-05, 1.00000000e+00, 6.33199148e-15,\n",
       "       5.52518787e-14, 1.10330749e-13, 4.37652530e-15, 1.10718198e-02,\n",
       "       3.41835092e-15, 8.54587731e-16, 0.00000000e+00, 5.13310191e-01,\n",
       "       3.41835092e-15, 0.00000000e+00, 0.00000000e+00, 4.45719652e-16,\n",
       "       0.00000000e+00, 2.19688075e-01, 4.71865831e-15, 7.42941194e-01,\n",
       "       9.74890269e-01, 5.98211412e-15, 6.04373606e-16, 6.83670185e-15,\n",
       "       0.00000000e+00, 1.97935263e-16, 0.00000000e+00, 0.00000000e+00,\n",
       "       0.00000000e+00, 9.59764658e-01, 7.01278785e-15, 9.89911487e-05,\n",
       "       0.00000000e+00, 3.95247004e-15, 0.00000000e+00, 4.46653047e-01,\n",
       "       0.00000000e+00, 0.00000000e+00, 3.84842281e-15, 2.47375403e-15,\n",
       "       7.99116942e-16, 3.52635539e-01, 6.32406816e-15, 9.99971242e-01,\n",
       "       1.00000000e+00, 1.00000000e+00, 2.03771502e-01, 0.00000000e+00,\n",
       "       0.00000000e+00, 0.00000000e+00, 0.00000000e+00, 1.00000000e+00,\n",
       "       1.00000000e+00, 0.00000000e+00, 1.02343877e-15, 3.46268764e-15,\n",
       "       1.00000000e+00, 4.33970506e-15, 0.00000000e+00, 1.00000000e+00,\n",
       "       3.71083779e-15, 9.99971242e-01, 0.00000000e+00, 1.20150301e-15,\n",
       "       0.00000000e+00, 1.00000000e+00, 4.58944109e-16, 2.34895496e-01,\n",
       "       1.21143101e-15, 8.71970190e-15, 0.00000000e+00, 0.00000000e+00,\n",
       "       8.03820486e-15, 0.00000000e+00, 0.00000000e+00, 2.86165831e-15,\n",
       "       4.35033053e-16, 1.52452370e-01, 0.00000000e+00, 0.00000000e+00,\n",
       "       0.00000000e+00, 1.00000000e+00, 0.00000000e+00, 0.00000000e+00,\n",
       "       1.00000000e+00, 1.00000000e+00, 1.00000000e+00, 1.00000000e+00,\n",
       "       5.07022945e-08, 0.00000000e+00])"
      ]
     },
     "execution_count": 29,
     "metadata": {},
     "output_type": "execute_result"
    }
   ],
   "source": [
    "solution"
   ]
  },
  {
   "cell_type": "code",
   "execution_count": 30,
   "metadata": {},
   "outputs": [
    {
     "data": {
      "text/plain": [
       "(130,)"
      ]
     },
     "execution_count": 30,
     "metadata": {},
     "output_type": "execute_result"
    }
   ],
   "source": [
    "solution.x.shape"
   ]
  },
  {
   "cell_type": "code",
   "execution_count": 31,
   "metadata": {},
   "outputs": [],
   "source": [
    "x = solution.x[:len(items)].round()\n",
    "y = solution.x[len(items):].reshape(len(items),len(users)).round()"
   ]
  },
  {
   "cell_type": "markdown",
   "metadata": {},
   "source": [
    "# Solution"
   ]
  },
  {
   "cell_type": "markdown",
   "metadata": {},
   "source": [
    "## Items in cache"
   ]
  },
  {
   "cell_type": "code",
   "execution_count": 32,
   "metadata": {},
   "outputs": [
    {
     "data": {
      "text/plain": [
       "array([1., 1., 1., 0., 0., 0., 1., 0., 0., 1.])"
      ]
     },
     "execution_count": 32,
     "metadata": {},
     "output_type": "execute_result"
    }
   ],
   "source": [
    "x"
   ]
  },
  {
   "cell_type": "code",
   "execution_count": 36,
   "metadata": {},
   "outputs": [
    {
     "data": {
      "text/plain": [
       "5.0"
      ]
     },
     "execution_count": 36,
     "metadata": {},
     "output_type": "execute_result"
    }
   ],
   "source": [
    "x.sum()"
   ]
  },
  {
   "cell_type": "code",
   "execution_count": 37,
   "metadata": {},
   "outputs": [
    {
     "data": {
      "text/plain": [
       "(10,)"
      ]
     },
     "execution_count": 37,
     "metadata": {},
     "output_type": "execute_result"
    }
   ],
   "source": [
    "x.shape"
   ]
  },
  {
   "cell_type": "markdown",
   "metadata": {},
   "source": [
    "## Recommended items"
   ]
  },
  {
   "cell_type": "code",
   "execution_count": 33,
   "metadata": {},
   "outputs": [
    {
     "data": {
      "text/plain": [
       "array([[1., 0., 0., 1., 1., 0., 1., 0., 0., 0., 1., 0.],\n",
       "       [0., 0., 0., 0., 1., 0., 1., 1., 1., 1., 1., 0.],\n",
       "       [1., 1., 0., 0., 1., 1., 0., 0., 1., 0., 0., 0.],\n",
       "       [0., 0., 0., 0., 0., 1., 0., 0., 0., 0., 0., 0.],\n",
       "       [0., 1., 1., 0., 0., 0., 0., 0., 0., 0., 0., 1.],\n",
       "       [0., 0., 0., 0., 0., 0., 0., 0., 0., 0., 0., 0.],\n",
       "       [0., 1., 1., 1., 0., 0., 0., 0., 0., 1., 1., 0.],\n",
       "       [0., 0., 1., 0., 0., 1., 0., 1., 0., 0., 0., 1.],\n",
       "       [0., 0., 0., 0., 0., 0., 0., 0., 0., 0., 0., 0.],\n",
       "       [0., 0., 0., 1., 0., 0., 1., 1., 1., 1., 0., 0.]])"
      ]
     },
     "execution_count": 33,
     "metadata": {},
     "output_type": "execute_result"
    }
   ],
   "source": [
    "y"
   ]
  },
  {
   "cell_type": "code",
   "execution_count": 34,
   "metadata": {},
   "outputs": [
    {
     "data": {
      "text/plain": [
       "array([2., 3., 3., 3., 3., 3., 3., 3., 3., 3., 3., 2.])"
      ]
     },
     "execution_count": 34,
     "metadata": {},
     "output_type": "execute_result"
    }
   ],
   "source": [
    "y.sum(axis=0) # items recommended to each user"
   ]
  },
  {
   "cell_type": "code",
   "execution_count": 35,
   "metadata": {},
   "outputs": [
    {
     "data": {
      "text/plain": [
       "(10, 12)"
      ]
     },
     "execution_count": 35,
     "metadata": {},
     "output_type": "execute_result"
    }
   ],
   "source": [
    "y.shape"
   ]
  },
  {
   "cell_type": "code",
   "execution_count": null,
   "metadata": {},
   "outputs": [],
   "source": [
    "# x = cp.Variable(x.shape)\n",
    "# y = cp.Variable(y.shape)\n",
    "# prob = cp.Problem(cp.Maximize(cp.sum(x*cp.sum())),\n",
    "#                  [x<=1,\n",
    "#                   x>=0,\n",
    "#                   y<=1,\n",
    "#                   y>=0\n",
    "                     \n",
    "# #                   sum([x[i] for i in items]) == c,\n",
    "# #                  [sum([y[i][u] for i in items]) <= m for u in users],\n",
    "# #                  [sum([sum([I[i][u][v]*y[i][u] for u in users]) for i in items]) <= k for u in users]\n",
    "#                   ])\n",
    "# prob.solve()"
   ]
  },
  {
   "cell_type": "code",
   "execution_count": null,
   "metadata": {},
   "outputs": [],
   "source": []
  }
 ],
 "metadata": {
  "kernelspec": {
   "display_name": "env",
   "language": "python",
   "name": "env"
  },
  "language_info": {
   "codemirror_mode": {
    "name": "ipython",
    "version": 3
   },
   "file_extension": ".py",
   "mimetype": "text/x-python",
   "name": "python",
   "nbconvert_exporter": "python",
   "pygments_lexer": "ipython3",
   "version": "3.5.2"
  }
 },
 "nbformat": 4,
 "nbformat_minor": 2
}
