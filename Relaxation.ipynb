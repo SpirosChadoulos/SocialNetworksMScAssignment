{
 "cells": [
  {
   "cell_type": "markdown",
   "metadata": {},
   "source": [
    "# Imports"
   ]
  },
  {
   "cell_type": "code",
   "execution_count": 1,
   "metadata": {},
   "outputs": [],
   "source": [
    "import numpy as np\n",
    "from scipy.optimize import minimize \n",
    "import random"
   ]
  },
  {
   "cell_type": "markdown",
   "metadata": {},
   "source": [
    "# Create random Reachable sets"
   ]
  },
  {
   "cell_type": "code",
   "execution_count": 2,
   "metadata": {},
   "outputs": [],
   "source": [
    "c = 5 # cache capacity\n",
    "k = 5 # each user should be in at most K reachable sets\n",
    "m = 2 # at most M items can be initially recommended to each user\n",
    "number_of_items = 10\n",
    "number_of_users = 12\n",
    "items= np.array(range(0,number_of_items)) # videos\n",
    "users = np.array(range(0,number_of_users)) # users\n",
    "# initialize x0 for the optimization\n",
    "x = np.full(len(items),0.5)\n",
    "y = np.full((len(items), len(users)),0.5)\n",
    "x0 = np.concatenate([x.flatten(), y.flatten()])\n",
    "# Random Reachable sets\n",
    "reachable_sets = np.array(np.array([[np.array(random.sample(list(users), random.choice(users))) for user in users] for i in items]))\n",
    "I = np.zeros((len(items), len(users), len(users)))\n",
    "for i in items:\n",
    "    for u in users:\n",
    "        for v in reachable_sets[i][u]:\n",
    "            I[i][u][v] = 1"
   ]
  },
  {
   "cell_type": "markdown",
   "metadata": {},
   "source": [
    "# Objective function"
   ]
  },
  {
   "cell_type": "code",
   "execution_count": 3,
   "metadata": {},
   "outputs": [],
   "source": [
    "def objective(z):\n",
    "    x = z[:len(items)]\n",
    "    y = z[len(items):].reshape(len(items),len(users))\n",
    "    \n",
    "    #The first term in (1) counts the users to which an item is \n",
    "    #initially recommended and the users in the ensuing reachable sets\n",
    "    #first_term = sum([(1+len(reachable_sets[i][u])) * y[i][u] for u in users])\n",
    "    #The second term in (1) is due to the overlap of reachable sets Riu,Riv\n",
    "    #second_term = 0.5*sum([sum([len(set(reachable_sets[i][u])&set(reachable_sets[i][v]))*y[i][u]*y[i][v] for v in users if v!=u]) for u in users])\n",
    "    return -sum([x[i]*(sum([(1+len(reachable_sets[i][u])) * y[i][u] for u in users]) - 0.5*sum([sum([len(set(reachable_sets[i][u])&set(reachable_sets[i][v]))*y[i][u]*y[i][v] for v in users if v!=u]) for u in users])) for i in items])"
   ]
  },
  {
   "cell_type": "markdown",
   "metadata": {},
   "source": [
    "# Constraint (2) is the cache capacity constraint"
   ]
  },
  {
   "cell_type": "code",
   "execution_count": 4,
   "metadata": {},
   "outputs": [],
   "source": [
    "def constraint2(z):  \n",
    "    x = z[:len(items)]\n",
    "    \n",
    "    return sum([x[i] for i in items]) - c"
   ]
  },
  {
   "cell_type": "markdown",
   "metadata": {},
   "source": [
    "# Constraint (3) says that at most M items can be initially recommended to each user"
   ]
  },
  {
   "cell_type": "code",
   "execution_count": 5,
   "metadata": {},
   "outputs": [],
   "source": [
    "def constraint3(z):  \n",
    "    y = z[len(items):].reshape(len(items),len(users))\n",
    "    \n",
    "    return [(-sum([y[i][u] for i in items]))+m for u in users]"
   ]
  },
  {
   "cell_type": "markdown",
   "metadata": {},
   "source": [
    "# Constraint (4) says that each user should be in at most K reachable sets these capture content consumption, attention span or time constraints"
   ]
  },
  {
   "cell_type": "code",
   "execution_count": 6,
   "metadata": {},
   "outputs": [],
   "source": [
    "def constraint4(z):  \n",
    "    y = z[len(items):].reshape(len(items),len(users))\n",
    "    \n",
    "    return [-sum([sum([I[i][u][v]*y[i][u] for u in users]) for i in items])+k for u in users]"
   ]
  },
  {
   "cell_type": "markdown",
   "metadata": {},
   "source": [
    "# Solve"
   ]
  },
  {
   "cell_type": "code",
   "execution_count": 7,
   "metadata": {
    "scrolled": false
   },
   "outputs": [
    {
     "name": "stdout",
     "output_type": "stream",
     "text": [
      "Initial Objective: -25.25\n"
     ]
    }
   ],
   "source": [
    "con2 = {'type': 'eq', 'fun': constraint2} \n",
    "con3 = {'type': 'ineq', 'fun': constraint3} \n",
    "con4 = {'type': 'ineq', 'fun': constraint4} \n",
    "cons = ([con2, con3, con4])\n",
    "# Bounds\n",
    "b = (0.0,1.0)\n",
    "bnds = [b for i in range(len(x0))]\n",
    "\n",
    "# show initial objective\n",
    "print('Initial Objective: ' + str(-1*objective(x0)))\n",
    "\n",
    "solution = minimize(objective, x0, method='SLSQP', bounds=bnds, constraints=cons)"
   ]
  },
  {
   "cell_type": "code",
   "execution_count": 8,
   "metadata": {},
   "outputs": [
    {
     "name": "stdout",
     "output_type": "stream",
     "text": [
      "Final Objective: 81.99999999936897\n"
     ]
    }
   ],
   "source": [
    "x = solution.x\n",
    "\n",
    "# show final objective\n",
    "print('Final Objective: ' + str(-1*objective(x)))"
   ]
  },
  {
   "cell_type": "code",
   "execution_count": 9,
   "metadata": {},
   "outputs": [
    {
     "data": {
      "text/plain": [
       "     fun: -81.99999999936897\n",
       "     jac: array([-16.54260731,  -0.27305222, -15.99246979, -17.55488682,\n",
       "       -15.        , -16.91003704,  -0.04125977,  -0.2991333 ,\n",
       "        -0.23250294,  -0.21064854,  -3.        ,   3.        ,\n",
       "        -2.        ,   5.        ,  -2.        ,   2.        ,\n",
       "        -1.        ,   5.        ,  -1.        ,   5.        ,\n",
       "         1.        ,   3.        ,   0.        ,   0.        ,\n",
       "         0.        ,   0.        ,   0.        ,   0.        ,\n",
       "         0.        ,   0.        ,   0.        ,   0.        ,\n",
       "         0.        ,   0.        ,   4.        ,  -1.        ,\n",
       "        -3.        ,   2.        ,  -1.        ,   4.        ,\n",
       "        -2.        ,   0.        ,   3.        ,  -2.        ,\n",
       "         4.        ,   1.        ,   1.        ,  -1.        ,\n",
       "         3.55488586,  -2.44511414,  -0.44511414,   4.55488586,\n",
       "         6.55488586,  -4.        ,  -1.        ,  -1.        ,\n",
       "        -1.        ,   1.        ,  -1.        ,   0.        ,\n",
       "         2.        ,   2.        ,   4.        ,  -2.        ,\n",
       "         1.        ,   6.        ,   4.        ,   0.        ,\n",
       "         1.        ,  -4.00000095,  -0.55488682,  -1.        ,\n",
       "        -0.55488586,  -8.30197811,  -1.        ,  -1.55488586,\n",
       "        -1.        ,  -2.        ,   2.14313507,   1.69802189,\n",
       "        -1.        ,   1.24537754,   0.        ,   0.        ,\n",
       "         0.        ,   0.        ,   0.        ,   0.        ,\n",
       "         0.        ,   0.        ,   0.        ,   0.        ,\n",
       "         0.        ,   0.        ,   0.        ,   0.        ,\n",
       "         0.        ,   0.        ,   0.        ,   0.        ,\n",
       "         0.        ,   0.        ,   0.        ,   0.        ,\n",
       "         0.        ,   0.        ,   0.        ,   0.        ,\n",
       "         0.        ,   0.        ,   0.        ,   0.        ,\n",
       "         0.        ,   0.        ,   0.        ,   0.        ,\n",
       "         0.        ,   0.        ,   0.        ,   0.        ,\n",
       "         0.        ,   0.        ,   0.        ,   0.        ,\n",
       "         0.        ,   0.        ,   0.        ,   0.        ,\n",
       "         0.        ,   0.        ])\n",
       " message: 'Optimization terminated successfully.'\n",
       "    nfev: 1716\n",
       "     nit: 13\n",
       "    njev: 13\n",
       "  status: 0\n",
       " success: True\n",
       "       x: array([1.00000000e+00, 1.49026689e-12, 1.00000000e+00, 1.00000000e+00,\n",
       "       1.00000000e+00, 1.00000000e+00, 2.54134845e-12, 1.04767389e-12,\n",
       "       1.49141827e-12, 8.88807397e-13, 1.00000000e+00, 8.58025228e-13,\n",
       "       1.00000000e+00, 1.49512130e-12, 1.00000000e+00, 1.57117189e-13,\n",
       "       5.42607177e-01, 1.36496152e-12, 1.00000000e+00, 2.78739755e-12,\n",
       "       2.52819191e-13, 1.77725382e-13, 0.00000000e+00, 0.00000000e+00,\n",
       "       0.00000000e+00, 0.00000000e+00, 0.00000000e+00, 0.00000000e+00,\n",
       "       0.00000000e+00, 3.05796563e-13, 0.00000000e+00, 0.00000000e+00,\n",
       "       0.00000000e+00, 2.27543799e-02, 1.86877579e-12, 1.00000000e+00,\n",
       "       1.00000000e+00, 2.07516817e-12, 9.92469523e-01, 1.61650586e-12,\n",
       "       1.00000000e+00, 1.05729088e-12, 5.45215013e-13, 1.00000000e+00,\n",
       "       8.60904971e-13, 1.09086987e-10, 8.31113353e-13, 5.54886502e-01,\n",
       "       2.18756659e-13, 1.00000000e+00, 0.00000000e+00, 4.66015697e-13,\n",
       "       1.09963474e-12, 1.00000000e+00, 1.00000000e+00, 1.00000000e+00,\n",
       "       1.00000000e+00, 1.58421829e-13, 1.00000000e+00, 2.07727391e-12,\n",
       "       2.47177312e-13, 0.00000000e+00, 6.11497432e-12, 1.00000000e+00,\n",
       "       2.19184235e-13, 3.08102899e-13, 2.91037293e-12, 4.77289065e-13,\n",
       "       6.63349808e-14, 1.00000000e+00, 3.08337396e-12, 4.45113498e-01,\n",
       "       4.99770299e-13, 1.00000000e+00, 7.53047669e-03, 1.00000000e+00,\n",
       "       4.57392823e-01, 1.00000000e+00, 2.55534784e-12, 1.54373822e-12,\n",
       "       1.00000000e+00, 9.87163304e-13, 0.00000000e+00, 0.00000000e+00,\n",
       "       1.38010445e-12, 0.00000000e+00, 0.00000000e+00, 0.00000000e+00,\n",
       "       0.00000000e+00, 0.00000000e+00, 0.00000000e+00, 0.00000000e+00,\n",
       "       0.00000000e+00, 1.03147704e-02, 0.00000000e+00, 0.00000000e+00,\n",
       "       0.00000000e+00, 0.00000000e+00, 0.00000000e+00, 0.00000000e+00,\n",
       "       0.00000000e+00, 0.00000000e+00, 8.30514405e-14, 0.00000000e+00,\n",
       "       0.00000000e+00, 3.32370654e-02, 0.00000000e+00, 9.91936909e-13,\n",
       "       0.00000000e+00, 0.00000000e+00, 0.00000000e+00, 0.00000000e+00,\n",
       "       0.00000000e+00, 0.00000000e+00, 0.00000000e+00, 0.00000000e+00,\n",
       "       0.00000000e+00, 1.93752384e-02, 0.00000000e+00, 0.00000000e+00,\n",
       "       0.00000000e+00, 0.00000000e+00, 0.00000000e+00, 0.00000000e+00,\n",
       "       0.00000000e+00, 0.00000000e+00, 0.00000000e+00, 0.00000000e+00,\n",
       "       0.00000000e+00, 2.10648092e-02])"
      ]
     },
     "execution_count": 9,
     "metadata": {},
     "output_type": "execute_result"
    }
   ],
   "source": [
    "solution"
   ]
  },
  {
   "cell_type": "code",
   "execution_count": null,
   "metadata": {},
   "outputs": [],
   "source": []
  }
 ],
 "metadata": {
  "kernelspec": {
   "display_name": "env",
   "language": "python",
   "name": "env"
  },
  "language_info": {
   "codemirror_mode": {
    "name": "ipython",
    "version": 3
   },
   "file_extension": ".py",
   "mimetype": "text/x-python",
   "name": "python",
   "nbconvert_exporter": "python",
   "pygments_lexer": "ipython3",
   "version": "3.5.2"
  }
 },
 "nbformat": 4,
 "nbformat_minor": 2
}
