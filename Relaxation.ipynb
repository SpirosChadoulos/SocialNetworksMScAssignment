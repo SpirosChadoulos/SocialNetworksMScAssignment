{
 "cells": [
  {
   "cell_type": "markdown",
   "metadata": {},
   "source": [
    "# Imports"
   ]
  },
  {
   "cell_type": "code",
   "execution_count": 1,
   "metadata": {},
   "outputs": [],
   "source": [
    "import numpy as np\n",
    "from scipy.optimize import minimize\n",
    "import random\n",
    "import multiprocessing\n",
    "import itertools\n",
    "\n",
    "import cvxpy as cp"
   ]
  },
  {
   "cell_type": "code",
   "execution_count": 2,
   "metadata": {},
   "outputs": [],
   "source": [
    "np.random.seed(1)"
   ]
  },
  {
   "cell_type": "markdown",
   "metadata": {},
   "source": [
    "# Create random Reachable sets"
   ]
  },
  {
   "cell_type": "code",
   "execution_count": 22,
   "metadata": {},
   "outputs": [],
   "source": [
    "c = 5 # cache capacity\n",
    "k = 5 # each user should be in at most K reachable sets\n",
    "m = 2 # at most M items can be initially recommended to each user\n",
    "L = 5 # the total number of items that the user will receive either through \n",
    "# direct recommendation or indirectly (because it is in reachable sets of users to whom items \n",
    "#have been recommended) should not be more than L\n",
    "number_of_items = 10\n",
    "number_of_users = 20\n",
    "items= np.array(range(0,number_of_items)) # videos\n",
    "users = np.array(range(0,number_of_users)) # users\n",
    "np.random.shuffle(items)\n",
    "np.random.shuffle(users)\n",
    "# initialize x0 for the optimization\n",
    "x = np.full(len(items),0.5)\n",
    "y = np.full((len(items), len(users)),0.5)\n",
    "x0 = np.concatenate([x.flatten(), y.flatten()])\n",
    "# Random Reachable sets\n",
    "reachable_sets = np.array(np.array([[np.array(random.sample(list(users), random.choice(users))) for user in users] for i in items]))\n",
    "reachable_sets_dict = {}\n",
    "for i in items:\n",
    "    dic = {}\n",
    "    for user in users:\n",
    "        dic[user] = np.array(random.sample(list(users), random.choice(users)))\n",
    "    reachable_sets_dict[i] = dic\n",
    "        \n",
    "\n",
    "I = np.zeros((len(items), len(users), len(users)))\n",
    "for i in items:\n",
    "    for u in users:\n",
    "        for v in reachable_sets[i][u]:\n",
    "            I[i][u][v] = 1"
   ]
  },
  {
   "cell_type": "markdown",
   "metadata": {},
   "source": [
    "# Save the size of each intersection of reachable sets to a numpy array"
   ]
  },
  {
   "cell_type": "code",
   "execution_count": 23,
   "metadata": {},
   "outputs": [],
   "source": [
    "intersections = np.zeros((len(items),len(users),len(users)))\n",
    "for i in items:\n",
    "    for u in users:\n",
    "        for v in users:\n",
    "            if v!=u:\n",
    "                intersections[i][u][v] = len(set(reachable_sets[i][u])&set(reachable_sets[i][v]))"
   ]
  },
  {
   "cell_type": "markdown",
   "metadata": {},
   "source": [
    "# Save the size of each reachable set to a numpy array"
   ]
  },
  {
   "cell_type": "code",
   "execution_count": 24,
   "metadata": {},
   "outputs": [],
   "source": [
    "size_of_sets = np.vectorize(len)\n",
    "reachable_sets_len = size_of_sets(reachable_sets)"
   ]
  },
  {
   "cell_type": "markdown",
   "metadata": {},
   "source": [
    "# Save the size of each intersection of reachable sets to a dictionary"
   ]
  },
  {
   "cell_type": "code",
   "execution_count": 6,
   "metadata": {},
   "outputs": [],
   "source": [
    "# intersections = np.zeros((len(items),len(users),len(users)))\n",
    "# intersections = {}\n",
    "# for item,row in reachable_sets_dict.items():\n",
    "#     dic1={}\n",
    "#     for user1,x in row.items():\n",
    "#         dic2={}\n",
    "#         for user2,y in row.items():\n",
    "#             dic2[user2] = len(set(x)&set(y))\n",
    "#         dic1[user1]=dic2\n",
    "#     intersections[item]=dic1\n",
    "            \n",
    "        "
   ]
  },
  {
   "cell_type": "code",
   "execution_count": 70,
   "metadata": {},
   "outputs": [
    {
     "data": {
      "text/plain": [
       "(10, 12)"
      ]
     },
     "execution_count": 70,
     "metadata": {},
     "output_type": "execute_result"
    }
   ],
   "source": [
    "reachable_sets_len.shape"
   ]
  },
  {
   "cell_type": "code",
   "execution_count": 9,
   "metadata": {},
   "outputs": [
    {
     "data": {
      "text/plain": [
       "(10,)"
      ]
     },
     "execution_count": 9,
     "metadata": {},
     "output_type": "execute_result"
    }
   ],
   "source": [
    "x.shape"
   ]
  },
  {
   "cell_type": "code",
   "execution_count": 11,
   "metadata": {},
   "outputs": [
    {
     "data": {
      "text/plain": [
       "(1, 10)"
      ]
     },
     "execution_count": 11,
     "metadata": {},
     "output_type": "execute_result"
    }
   ],
   "source": [
    "x[np.newaxis].T.shape"
   ]
  },
  {
   "cell_type": "code",
   "execution_count": 73,
   "metadata": {},
   "outputs": [
    {
     "data": {
      "text/plain": [
       "(1, 12)"
      ]
     },
     "execution_count": 73,
     "metadata": {},
     "output_type": "execute_result"
    }
   ],
   "source": [
    "((reachable_sets_len*y).sum(axis=0))[np.newaxis].shape"
   ]
  },
  {
   "cell_type": "code",
   "execution_count": 74,
   "metadata": {},
   "outputs": [
    {
     "data": {
      "text/plain": [
       "(10,)"
      ]
     },
     "execution_count": 74,
     "metadata": {},
     "output_type": "execute_result"
    }
   ],
   "source": [
    "np.dot(x[np.newaxis].T,((reachable_sets_len*y).sum(axis=0))[np.newaxis]).sum(axis=1).shape"
   ]
  },
  {
   "cell_type": "code",
   "execution_count": 15,
   "metadata": {},
   "outputs": [
    {
     "data": {
      "text/plain": [
       "(10, 12)"
      ]
     },
     "execution_count": 15,
     "metadata": {},
     "output_type": "execute_result"
    }
   ],
   "source": [
    "reachable_sets_len.shape"
   ]
  },
  {
   "cell_type": "code",
   "execution_count": 25,
   "metadata": {},
   "outputs": [
    {
     "data": {
      "text/plain": [
       "(10, 12)"
      ]
     },
     "execution_count": 25,
     "metadata": {},
     "output_type": "execute_result"
    }
   ],
   "source": [
    "y.shape"
   ]
  },
  {
   "cell_type": "code",
   "execution_count": 14,
   "metadata": {},
   "outputs": [
    {
     "data": {
      "text/plain": [
       "(10, 12, 12)"
      ]
     },
     "execution_count": 14,
     "metadata": {},
     "output_type": "execute_result"
    }
   ],
   "source": [
    "intersections.shape"
   ]
  },
  {
   "cell_type": "code",
   "execution_count": 23,
   "metadata": {},
   "outputs": [
    {
     "data": {
      "text/plain": [
       "(10, 12, 10)"
      ]
     },
     "execution_count": 23,
     "metadata": {},
     "output_type": "execute_result"
    }
   ],
   "source": [
    "np.dot(y,intersections.T).shape"
   ]
  },
  {
   "cell_type": "code",
   "execution_count": 36,
   "metadata": {},
   "outputs": [
    {
     "data": {
      "text/plain": [
       "(10, 12)"
      ]
     },
     "execution_count": 36,
     "metadata": {},
     "output_type": "execute_result"
    }
   ],
   "source": [
    "np.einsum('ijk,ik->ij',intersections,y).shape"
   ]
  },
  {
   "cell_type": "code",
   "execution_count": 38,
   "metadata": {},
   "outputs": [
    {
     "data": {
      "text/plain": [
       "(10, 10)"
      ]
     },
     "execution_count": 38,
     "metadata": {},
     "output_type": "execute_result"
    }
   ],
   "source": [
    "np.dot(y,np.einsum('ijk,ik->ij',intersections,y).T).shape"
   ]
  },
  {
   "cell_type": "code",
   "execution_count": 39,
   "metadata": {},
   "outputs": [
    {
     "data": {
      "text/plain": [
       "(10, 12)"
      ]
     },
     "execution_count": 39,
     "metadata": {},
     "output_type": "execute_result"
    }
   ],
   "source": [
    "reachable_sets_len.shape"
   ]
  },
  {
   "cell_type": "code",
   "execution_count": 48,
   "metadata": {},
   "outputs": [
    {
     "data": {
      "text/plain": [
       "array([[ 6,  8,  7,  3,  5, 10,  5,  5,  8,  8, 10,  6],\n",
       "       [10,  7,  0,  1, 10, 10,  7,  4,  0,  7, 10, 11],\n",
       "       [ 3,  3,  7,  7,  9, 11,  8, 10,  8,  7,  4,  0],\n",
       "       [ 7,  6,  2,  0,  8, 10,  1, 10,  2,  3,  7,  5],\n",
       "       [ 0, 11,  5,  5,  8,  9,  4,  0,  1, 10,  8,  3],\n",
       "       [ 7, 11,  1,  8,  9,  9, 10,  9,  8,  9,  0,  9],\n",
       "       [ 2,  5,  2,  9,  7,  7,  5, 11,  4, 10, 11,  4],\n",
       "       [ 4,  2,  2,  4,  8,  1,  8,  8,  4,  4,  3,  3],\n",
       "       [ 4,  2, 11,  4,  2, 11,  2,  9,  7,  7, 11,  9],\n",
       "       [11,  5,  9,  9,  0,  1,  5,  1,  5,  1,  9,  2]])"
      ]
     },
     "execution_count": 48,
     "metadata": {},
     "output_type": "execute_result"
    }
   ],
   "source": [
    "reachable_sets_len"
   ]
  },
  {
   "cell_type": "code",
   "execution_count": 44,
   "metadata": {},
   "outputs": [
    {
     "data": {
      "text/plain": [
       "array([[0.5, 0.5, 0.5, 0.5, 0.5, 0.5, 0.5, 0.5, 0.5, 0.5, 0.5, 0.5],\n",
       "       [0.5, 0.5, 0.5, 0.5, 0.5, 0.5, 0.5, 0.5, 0.5, 0.5, 0.5, 0.5],\n",
       "       [0.5, 0.5, 0.5, 0.5, 0.5, 0.5, 0.5, 0.5, 0.5, 0.5, 0.5, 0.5],\n",
       "       [0.5, 0.5, 0.5, 0.5, 0.5, 0.5, 0.5, 0.5, 0.5, 0.5, 0.5, 0.5],\n",
       "       [0.5, 0.5, 0.5, 0.5, 0.5, 0.5, 0.5, 0.5, 0.5, 0.5, 0.5, 0.5],\n",
       "       [0.5, 0.5, 0.5, 0.5, 0.5, 0.5, 0.5, 0.5, 0.5, 0.5, 0.5, 0.5],\n",
       "       [0.5, 0.5, 0.5, 0.5, 0.5, 0.5, 0.5, 0.5, 0.5, 0.5, 0.5, 0.5],\n",
       "       [0.5, 0.5, 0.5, 0.5, 0.5, 0.5, 0.5, 0.5, 0.5, 0.5, 0.5, 0.5],\n",
       "       [0.5, 0.5, 0.5, 0.5, 0.5, 0.5, 0.5, 0.5, 0.5, 0.5, 0.5, 0.5],\n",
       "       [0.5, 0.5, 0.5, 0.5, 0.5, 0.5, 0.5, 0.5, 0.5, 0.5, 0.5, 0.5]])"
      ]
     },
     "execution_count": 44,
     "metadata": {},
     "output_type": "execute_result"
    }
   ],
   "source": [
    "y"
   ]
  },
  {
   "cell_type": "markdown",
   "metadata": {},
   "source": [
    "# Objective function"
   ]
  },
  {
   "cell_type": "code",
   "execution_count": 17,
   "metadata": {},
   "outputs": [],
   "source": [
    "def objective(z):\n",
    "#     x = z[:len(items)][np.newaxis]\n",
    "#     y = z[len(items):].reshape(len(items),len(users))[np.newaxis]\n",
    "    \n",
    "    x = z[:len(items)]\n",
    "    y = z[len(items):].reshape(len(items),len(users))\n",
    "    #print(\"KAPPA\")\n",
    "    \n",
    "    #The first term in (1) counts the users to which an item is \n",
    "    #initially recommended and the users in the ensuing reachable sets\n",
    "    #first_term = sum([(1+len(reachable_sets[i][u])) * y[i][u] for u in users])\n",
    "    #The second term in (1) is due to the overlap of reachable sets Riu,Riv\n",
    "    #second_term = 0.5*sum([sum([len(set(reachable_sets[i][u])&set(reachable_sets[i][v]))*y[i][u]*y[i][v] for v in users if v!=u]) for u in users])\n",
    "    # Ekfonisi\n",
    "    #return -sum([x[i]*(sum([(1+len(reachable_sets[i][u])) * y[i][u] for u in users]) - 0.5*sum([sum([len(set(reachable_sets[i][u])&set(reachable_sets[i][v]))*y[i][u]*y[i][v] for v in users if v!=u]) for u in users])) for i in items])\n",
    "    # Paper\n",
    "    #return x.sum()\n",
    "    #return -(np.dot(x,((((1+reachable_sets_len)*y)-0.5*()).sum(axis=0)))).sum(axis=1)\n",
    "    #return -sum([x[i]*sum([(1+len(reachable_sets[i][u])) * y[i][u] - 0.5*sum([len(set(reachable_sets[i][u])&set(reachable_sets[i][v]))*y[i][u]*y[i][v] for v in users if v!=u]) for u in users]) for i in items])\n",
    "    #return -sum([x[i]*sum([(1+reachable_sets_len[i][u]) * y[i][u] - 0.5*sum([intersections[i][u][v]*y[i][u]*y[i][v] for v in users if v!=u]) for u in users]) for i in items])\n",
    "    \n",
    "    \n",
    "    #return -(np.dot(x,(np.dot((1+reachable_sets_len),y.T)-0.5*(np.dot(y,np.einsum('ijk,ik->ij',intersections,y).T)))))\n",
    "    return -np.dot(x,(((1+reachable_sets_len)*y).sum(axis=1) - 0.5*(y*((y[:,:,None]*intersections).sum(axis=2))).sum(axis=1)))"
   ]
  },
  {
   "cell_type": "code",
   "execution_count": 70,
   "metadata": {},
   "outputs": [
    {
     "data": {
      "text/plain": [
       "(10,)"
      ]
     },
     "execution_count": 70,
     "metadata": {},
     "output_type": "execute_result"
    }
   ],
   "source": [
    "np.dot(x,np.dot((1+reachable_sets_len),y.T)).shape"
   ]
  },
  {
   "cell_type": "code",
   "execution_count": 98,
   "metadata": {},
   "outputs": [
    {
     "data": {
      "text/plain": [
       "-36.25"
      ]
     },
     "execution_count": 98,
     "metadata": {},
     "output_type": "execute_result"
    }
   ],
   "source": [
    "np.dot(x,(((1+reachable_sets_len)*y).sum(axis=1) - 0.5*(y*((y[:,:,None]*intersections).sum(axis=2))).sum(axis=1)))"
   ]
  },
  {
   "cell_type": "code",
   "execution_count": 93,
   "metadata": {},
   "outputs": [
    {
     "data": {
      "text/plain": [
       "(10,)"
      ]
     },
     "execution_count": 93,
     "metadata": {},
     "output_type": "execute_result"
    }
   ],
   "source": [
    "(y*((y[:,:,None]*intersections).sum(axis=2))).sum(axis=1).shape"
   ]
  },
  {
   "cell_type": "markdown",
   "metadata": {},
   "source": [
    "# Constraint (2) is the cache capacity constraint"
   ]
  },
  {
   "cell_type": "code",
   "execution_count": 7,
   "metadata": {},
   "outputs": [],
   "source": [
    "def constraint2(z):  \n",
    "    x = z[:len(items)]\n",
    "    \n",
    "    return sum([x[i] for i in items]) - c"
   ]
  },
  {
   "cell_type": "markdown",
   "metadata": {},
   "source": [
    "# Constraint (3) says that at most M items can be initially recommended to each user"
   ]
  },
  {
   "cell_type": "code",
   "execution_count": 8,
   "metadata": {},
   "outputs": [],
   "source": [
    "def constraint3(z):  \n",
    "    y = z[len(items):].reshape(len(items),len(users))\n",
    "    \n",
    "    return [(-sum([y[i][u] for i in items]))+m for u in users]"
   ]
  },
  {
   "cell_type": "markdown",
   "metadata": {},
   "source": [
    "# Constraint (4) says that each user should be in at most K reachable sets these capture content consumption, attention span or time constraints"
   ]
  },
  {
   "cell_type": "code",
   "execution_count": 9,
   "metadata": {},
   "outputs": [],
   "source": [
    "def constraint4(z):  \n",
    "    y = z[len(items):].reshape(len(items),len(users))\n",
    "    \n",
    "    return [-sum([sum([I[i][u][v]*y[i][u] for u in users]) for i in items])+k for u in users]"
   ]
  },
  {
   "cell_type": "markdown",
   "metadata": {},
   "source": [
    "# Constraint (6) says that the total number of items that the user will receive either through direct recommendation or indirectly (because it is in reachable sets of users to whom items have been recommended) should not be more than L"
   ]
  },
  {
   "cell_type": "code",
   "execution_count": 18,
   "metadata": {},
   "outputs": [],
   "source": [
    "def constraint6(z):\n",
    "    y = z[len(items):].reshape(len(items),len(users))\n",
    "    \n",
    "\n",
    "    return [-sum([y[i][u] for i in items]) - sum([sum([I[i][u][v]*y[i][u] for v in users]) for i in items])+L for u in users]"
   ]
  },
  {
   "cell_type": "markdown",
   "metadata": {},
   "source": [
    "# Solve"
   ]
  },
  {
   "cell_type": "code",
   "execution_count": 25,
   "metadata": {
    "scrolled": false
   },
   "outputs": [
    {
     "name": "stdout",
     "output_type": "stream",
     "text": [
      "Initial Objective: -663.375\n"
     ]
    }
   ],
   "source": [
    "con2 = {'type': 'eq', 'fun': constraint2} \n",
    "con3 = {'type': 'ineq', 'fun': constraint3} \n",
    "con4 = {'type': 'ineq', 'fun': constraint4} \n",
    "con6 = {'type': 'ineq', 'fun': constraint6}\n",
    "cons = ([con2, con6])\n",
    "# Bounds\n",
    "b = (0.0,1.0)\n",
    "bnds = [b for i in range(len(x0))]\n",
    "\n",
    "# show initial objective\n",
    "print('Initial Objective: ' + str(-1*objective(x0)))\n",
    "\n",
    "solution = minimize(objective, x0, method='SLSQP', bounds=bnds, constraints=cons)"
   ]
  },
  {
   "cell_type": "code",
   "execution_count": 26,
   "metadata": {},
   "outputs": [
    {
     "name": "stdout",
     "output_type": "stream",
     "text": [
      "Final Objective: 63.70074829910546\n"
     ]
    }
   ],
   "source": [
    "x = solution.x\n",
    "\n",
    "# show final objective\n",
    "print('Final Objective: ' + str(-1*objective(x)))"
   ]
  },
  {
   "cell_type": "code",
   "execution_count": 27,
   "metadata": {},
   "outputs": [
    {
     "data": {
      "text/plain": [
       "     fun: -63.70074829910546\n",
       "     jac: array([-1.48198175e+00, -1.17928534e+01, -3.17811966e-03, -1.39300027e+01,\n",
       "       -3.21531296e-03, -1.62458420e-03, -1.35375791e+01, -1.82454586e-01,\n",
       "       -1.24910808e+01, -1.19492326e+01,  0.00000000e+00,  0.00000000e+00,\n",
       "        0.00000000e+00,  0.00000000e+00,  0.00000000e+00,  0.00000000e+00,\n",
       "        0.00000000e+00,  0.00000000e+00,  0.00000000e+00,  0.00000000e+00,\n",
       "        0.00000000e+00,  0.00000000e+00,  0.00000000e+00,  0.00000000e+00,\n",
       "        0.00000000e+00,  0.00000000e+00,  0.00000000e+00,  0.00000000e+00,\n",
       "        0.00000000e+00,  0.00000000e+00,  3.93867493e-04, -6.93545723e+00,\n",
       "       -2.23636627e-04, -5.04682541e+00, -8.52493286e-01, -7.54303980e+00,\n",
       "       -1.91211700e-04, -6.19055271e-01, -4.42028046e-04, -2.01327944e+00,\n",
       "       -4.37641525e+00, -7.19286251e+00, -1.81327295e+00, -7.31444693e+00,\n",
       "       -1.11677170e-01, -5.84332323e+00, -6.88600969e+00, -4.66939497e+00,\n",
       "       -6.47834015e+00, -1.34791422e+00,  0.00000000e+00,  0.00000000e+00,\n",
       "        0.00000000e+00,  0.00000000e+00,  0.00000000e+00,  0.00000000e+00,\n",
       "        0.00000000e+00,  0.00000000e+00,  0.00000000e+00,  0.00000000e+00,\n",
       "        0.00000000e+00,  0.00000000e+00,  0.00000000e+00,  0.00000000e+00,\n",
       "        0.00000000e+00,  0.00000000e+00,  0.00000000e+00,  0.00000000e+00,\n",
       "        0.00000000e+00,  0.00000000e+00,  9.96589661e-04, -8.78458929e+00,\n",
       "       -1.21593475e-04, -1.00000000e+00, -1.42163229e+00, -5.95503187e+00,\n",
       "       -1.63555145e-04, -3.09434319e+00,  2.49385834e-04, -4.88903856e+00,\n",
       "       -2.50058985e+00, -8.46154690e-01, -2.37104464e+00, -3.84957266e+00,\n",
       "       -3.35393429e-01, -1.00000000e+00, -8.85414743e+00, -5.94332933e+00,\n",
       "       -4.85883760e+00, -1.79914474e-01,  0.00000000e+00,  0.00000000e+00,\n",
       "        0.00000000e+00,  0.00000000e+00,  0.00000000e+00,  0.00000000e+00,\n",
       "        0.00000000e+00,  0.00000000e+00,  0.00000000e+00,  0.00000000e+00,\n",
       "        0.00000000e+00,  0.00000000e+00,  0.00000000e+00,  0.00000000e+00,\n",
       "        0.00000000e+00,  0.00000000e+00,  0.00000000e+00,  0.00000000e+00,\n",
       "        0.00000000e+00,  0.00000000e+00,  0.00000000e+00,  0.00000000e+00,\n",
       "        0.00000000e+00,  0.00000000e+00,  0.00000000e+00,  0.00000000e+00,\n",
       "        0.00000000e+00,  0.00000000e+00,  0.00000000e+00,  0.00000000e+00,\n",
       "        0.00000000e+00,  0.00000000e+00,  0.00000000e+00,  0.00000000e+00,\n",
       "        0.00000000e+00,  0.00000000e+00,  0.00000000e+00,  0.00000000e+00,\n",
       "        0.00000000e+00,  0.00000000e+00,  1.87873840e-04, -3.69846487e+00,\n",
       "       -1.74522400e-04, -2.71742105e+00, -5.68575716e+00, -5.55801249e+00,\n",
       "        7.39097595e-05, -6.18792772e+00, -1.00000000e+00, -1.43852425e+00,\n",
       "       -4.37657118e+00, -8.46226025e+00, -4.18568611e-01, -1.00000000e+00,\n",
       "       -9.49752331e-01, -4.28568459e+00, -8.85406923e+00, -5.94309521e+00,\n",
       "       -2.02477980e+00, -2.69457817e-01,  0.00000000e+00,  0.00000000e+00,\n",
       "        0.00000000e+00,  0.00000000e+00,  0.00000000e+00,  0.00000000e+00,\n",
       "        0.00000000e+00,  0.00000000e+00,  0.00000000e+00,  0.00000000e+00,\n",
       "        0.00000000e+00,  0.00000000e+00,  0.00000000e+00,  0.00000000e+00,\n",
       "        0.00000000e+00,  0.00000000e+00,  0.00000000e+00,  0.00000000e+00,\n",
       "        0.00000000e+00,  0.00000000e+00,  2.45094299e-04, -8.32238626e+00,\n",
       "        8.82148743e-05, -6.98802471e+00, -5.68587208e+00, -6.35150337e+00,\n",
       "       -3.09944153e-04, -9.28216457e-01, -2.22206116e-04, -1.00000000e+00,\n",
       "       -6.25160122e+00, -4.23134041e+00, -4.18310165e-01, -3.46487522e+00,\n",
       "       -6.14359856e-01, -6.62225008e+00, -4.91889572e+00, -5.94303036e+00,\n",
       "       -5.66843414e+00, -1.25895405e+00,  3.94344330e-04, -5.54842710e+00,\n",
       "        1.11579895e-04, -5.43471575e+00, -1.98995495e+00, -7.93825626e-01,\n",
       "       -2.52723694e-05, -5.25908899e+00,  4.52518463e-04, -3.45016670e+00,\n",
       "       -9.37758923e-01, -8.46219206e+00, -8.37360382e-01, -5.00480413e+00,\n",
       "       -2.23817825e-01, -4.28506422e+00, -9.34602499e+00, -6.36721373e+00,\n",
       "       -7.69365072e+00, -7.18789577e-01])\n",
       " message: 'Optimization terminated successfully.'\n",
       "    nfev: 20913\n",
       "     nit: 98\n",
       "    njev: 98\n",
       "  status: 0\n",
       " success: True\n",
       "       x: array([1.87457989e-12, 1.00000000e+00, 1.42279455e-12, 1.00000000e+00,\n",
       "       1.53495316e-12, 1.40190748e-12, 1.00000000e+00, 1.89525496e-12,\n",
       "       1.00000000e+00, 1.00000000e+00, 4.61346779e-02, 1.85612510e-13,\n",
       "       6.69184500e-02, 4.32970067e-13, 4.71104238e-13, 7.03887610e-14,\n",
       "       1.73490237e-02, 5.51102070e-13, 6.49276354e-02, 3.15564553e-13,\n",
       "       2.24521370e-13, 5.84199867e-13, 1.88244803e-13, 6.15622412e-13,\n",
       "       6.86128939e-13, 2.44388522e-13, 4.44952329e-13, 9.17194484e-14,\n",
       "       3.52013020e-13, 3.21229970e-13, 1.33346455e-01, 6.35003302e-02,\n",
       "       1.99977640e-01, 7.50299436e-02, 1.13026658e-01, 7.07219706e-02,\n",
       "       1.18640824e-01, 1.97277809e-01, 1.28565105e-01, 9.40890648e-02,\n",
       "       8.08704541e-02, 6.81051143e-02, 1.02630518e-01, 7.30347004e-02,\n",
       "       2.69760421e-01, 7.26720290e-02, 5.64602322e-02, 6.66379400e-02,\n",
       "       7.05308069e-02, 1.08349878e-01, 6.20369585e-05, 1.40628630e-13,\n",
       "       4.81275730e-05, 2.99070192e-14, 7.57537933e-14, 1.39221139e-13,\n",
       "       1.83625519e-03, 1.65167012e-13, 1.60305216e-13, 9.44388372e-14,\n",
       "       8.84931166e-14, 6.13180278e-14, 1.73682960e-13, 1.17241834e-13,\n",
       "       1.47694525e-13, 4.90139791e-14, 1.33655134e-13, 1.40264766e-13,\n",
       "       1.04563939e-13, 8.66511458e-14, 1.44455510e-01, 7.98078908e-02,\n",
       "       1.99991899e-01, 1.00000000e+00, 1.15431213e-01, 8.45324039e-02,\n",
       "       1.53839853e-01, 1.06240866e-01, 1.42862226e-01, 1.02635262e-01,\n",
       "       9.99892710e-02, 1.28205027e-01, 1.23974189e-01, 9.31882865e-02,\n",
       "       1.34871583e-01, 1.00000000e+00, 7.20145799e-02, 8.39236437e-02,\n",
       "       8.50138343e-02, 1.82008575e-01, 1.07791132e-04, 8.24237522e-14,\n",
       "       5.61790647e-05, 1.62245360e-13, 5.18291200e-14, 1.53473337e-13,\n",
       "       3.48797294e-05, 8.08739325e-14, 1.54460415e-13, 1.32929457e-13,\n",
       "       1.18450469e-13, 1.56007605e-13, 3.66903181e-14, 1.77700064e-13,\n",
       "       1.15049050e-13, 4.26216691e-14, 8.25414373e-14, 1.53676427e-13,\n",
       "       1.15410636e-13, 1.40424095e-13, 6.54897292e-05, 1.34166288e-13,\n",
       "       4.36861402e-05, 8.25064480e-14, 2.48214108e-14, 1.38662944e-13,\n",
       "       4.48628532e-05, 1.37330112e-13, 8.33879585e-14, 7.51699314e-14,\n",
       "       4.37012287e-14, 1.30640621e-13, 1.52092926e-13, 1.39771737e-13,\n",
       "       1.29627803e-13, 1.35367465e-13, 8.70294020e-14, 1.56484030e-13,\n",
       "       2.95322603e-14, 1.62718651e-13, 1.22452810e-01, 6.82783340e-02,\n",
       "       1.13205893e-01, 8.73995665e-02, 8.42014197e-02, 7.15422574e-02,\n",
       "       1.13924509e-01, 8.22147092e-02, 1.00000000e+00, 9.13198829e-02,\n",
       "       7.76082911e-02, 6.82706421e-02, 1.43412851e-01, 1.00000000e+00,\n",
       "       1.09185352e-01, 7.37836775e-02, 5.90059989e-02, 6.88624284e-02,\n",
       "       7.82952624e-02, 1.60620118e-01, 2.51529004e-03, 2.21111214e-13,\n",
       "       4.58913548e-03, 2.18948029e-13, 9.47895883e-14, 1.70123430e-13,\n",
       "       2.63791551e-03, 1.30954002e-13, 2.31745246e-03, 1.51313002e-12,\n",
       "       1.87175279e-13, 2.73899001e-13, 4.03138429e-14, 1.86303025e-13,\n",
       "       2.18786065e-13, 2.09645948e-13, 9.92504120e-14, 1.20812639e-13,\n",
       "       1.55868683e-13, 1.31904920e-13, 1.31585390e-01, 6.45174159e-02,\n",
       "       1.87505492e-01, 7.29269786e-02, 8.42007443e-02, 6.99166354e-02,\n",
       "       1.48136659e-01, 1.09041220e-01, 1.22803108e-01, 1.00000000e+00,\n",
       "       8.08729262e-02, 7.12180145e-02, 1.35878403e-01, 7.00648607e-02,\n",
       "       1.05975909e-01, 7.10804697e-02, 5.77398125e-02, 6.71414048e-02,\n",
       "       7.06064793e-02, 1.08897821e-01, 1.47070408e-01, 6.86337469e-02,\n",
       "       1.45835650e-01, 7.85805823e-02, 1.02245812e-01, 1.34019365e-01,\n",
       "       1.48147199e-01, 9.24481106e-02, 2.22272514e-01, 9.49981400e-02,\n",
       "       1.21308292e-01, 7.54105008e-02, 1.20061382e-01, 8.07595446e-02,\n",
       "       1.57340921e-01, 8.09028297e-02, 6.70414845e-02, 7.91998655e-02,\n",
       "       7.74407398e-02, 1.25538103e-01])"
      ]
     },
     "execution_count": 27,
     "metadata": {},
     "output_type": "execute_result"
    }
   ],
   "source": [
    "solution"
   ]
  },
  {
   "cell_type": "code",
   "execution_count": 107,
   "metadata": {},
   "outputs": [
    {
     "data": {
      "text/plain": [
       "(130,)"
      ]
     },
     "execution_count": 107,
     "metadata": {},
     "output_type": "execute_result"
    }
   ],
   "source": [
    "solution.x.shape"
   ]
  },
  {
   "cell_type": "code",
   "execution_count": 108,
   "metadata": {},
   "outputs": [],
   "source": [
    "x = solution.x[:len(items)].round()\n",
    "y = solution.x[len(items):].reshape(len(items),len(users)).round()"
   ]
  },
  {
   "cell_type": "markdown",
   "metadata": {},
   "source": [
    "# Solution"
   ]
  },
  {
   "cell_type": "markdown",
   "metadata": {},
   "source": [
    "## Items in cache"
   ]
  },
  {
   "cell_type": "code",
   "execution_count": 109,
   "metadata": {},
   "outputs": [
    {
     "data": {
      "text/plain": [
       "array([0., 1., 0., 1., 1., 0., 0., 1., 0., 1.])"
      ]
     },
     "execution_count": 109,
     "metadata": {},
     "output_type": "execute_result"
    }
   ],
   "source": [
    "x"
   ]
  },
  {
   "cell_type": "code",
   "execution_count": 110,
   "metadata": {},
   "outputs": [
    {
     "data": {
      "text/plain": [
       "5.0"
      ]
     },
     "execution_count": 110,
     "metadata": {},
     "output_type": "execute_result"
    }
   ],
   "source": [
    "x.sum()"
   ]
  },
  {
   "cell_type": "code",
   "execution_count": 111,
   "metadata": {},
   "outputs": [
    {
     "data": {
      "text/plain": [
       "(10,)"
      ]
     },
     "execution_count": 111,
     "metadata": {},
     "output_type": "execute_result"
    }
   ],
   "source": [
    "x.shape"
   ]
  },
  {
   "cell_type": "markdown",
   "metadata": {},
   "source": [
    "## Recommended items"
   ]
  },
  {
   "cell_type": "code",
   "execution_count": 112,
   "metadata": {},
   "outputs": [
    {
     "data": {
      "text/plain": [
       "array([[0., 0., 0., 0., 0., 0., 0., 0., 0., 0., 0., 0.],\n",
       "       [0., 0., 1., 0., 0., 0., 0., 0., 1., 0., 0., 0.],\n",
       "       [0., 0., 0., 0., 0., 0., 0., 0., 0., 0., 0., 1.],\n",
       "       [0., 0., 0., 1., 0., 0., 0., 0., 0., 0., 0., 0.],\n",
       "       [1., 0., 0., 0., 0., 0., 0., 1., 0., 0., 0., 0.],\n",
       "       [0., 0., 0., 0., 0., 0., 0., 0., 0., 0., 1., 0.],\n",
       "       [0., 0., 0., 0., 0., 0., 0., 0., 0., 0., 0., 0.],\n",
       "       [0., 0., 0., 0., 0., 0., 0., 0., 0., 0., 0., 0.],\n",
       "       [0., 0., 0., 0., 0., 0., 0., 0., 0., 0., 0., 0.],\n",
       "       [0., 0., 0., 0., 1., 0., 0., 1., 0., 0., 0., 0.]])"
      ]
     },
     "execution_count": 112,
     "metadata": {},
     "output_type": "execute_result"
    }
   ],
   "source": [
    "y"
   ]
  },
  {
   "cell_type": "code",
   "execution_count": 113,
   "metadata": {},
   "outputs": [
    {
     "data": {
      "text/plain": [
       "array([1., 0., 1., 1., 1., 0., 0., 2., 1., 0., 1., 1.])"
      ]
     },
     "execution_count": 113,
     "metadata": {},
     "output_type": "execute_result"
    }
   ],
   "source": [
    "y.sum(axis=0) # items recommended to each user"
   ]
  },
  {
   "cell_type": "code",
   "execution_count": 114,
   "metadata": {},
   "outputs": [
    {
     "data": {
      "text/plain": [
       "(10, 12)"
      ]
     },
     "execution_count": 114,
     "metadata": {},
     "output_type": "execute_result"
    }
   ],
   "source": [
    "y.shape"
   ]
  },
  {
   "cell_type": "code",
   "execution_count": 27,
   "metadata": {},
   "outputs": [],
   "source": [
    "# x = cp.Variable(x.shape)\n",
    "# y = cp.Variable(y.shape)\n",
    "# prob = cp.Problem(cp.Maximize(cp.sum(x*cp.sum())),\n",
    "#                  [x<=1,\n",
    "#                   x>=0,\n",
    "#                   y<=1,\n",
    "#                   y>=0\n",
    "                     \n",
    "# #                   sum([x[i] for i in items]) == c,\n",
    "# #                  [sum([y[i][u] for i in items]) <= m for u in users],\n",
    "# #                  [sum([sum([I[i][u][v]*y[i][u] for u in users]) for i in items]) <= k for u in users]\n",
    "#                   ])\n",
    "# prob.solve()"
   ]
  },
  {
   "cell_type": "code",
   "execution_count": null,
   "metadata": {},
   "outputs": [],
   "source": []
  }
 ],
 "metadata": {
  "kernelspec": {
   "display_name": "env",
   "language": "python",
   "name": "env"
  },
  "language_info": {
   "codemirror_mode": {
    "name": "ipython",
    "version": 3
   },
   "file_extension": ".py",
   "mimetype": "text/x-python",
   "name": "python",
   "nbconvert_exporter": "python",
   "pygments_lexer": "ipython3",
   "version": "3.5.2"
  }
 },
 "nbformat": 4,
 "nbformat_minor": 2
}
