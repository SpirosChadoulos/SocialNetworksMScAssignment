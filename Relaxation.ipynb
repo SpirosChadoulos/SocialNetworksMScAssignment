{
 "cells": [
  {
   "cell_type": "markdown",
   "metadata": {},
   "source": [
    "# Imports"
   ]
  },
  {
   "cell_type": "code",
   "execution_count": 1,
   "metadata": {},
   "outputs": [],
   "source": [
    "import numpy as np\n",
    "from scipy.optimize import minimize\n",
    "import random\n",
    "import multiprocessing\n",
    "\n",
    "import cvxpy as cp"
   ]
  },
  {
   "cell_type": "code",
   "execution_count": 2,
   "metadata": {},
   "outputs": [],
   "source": [
    "np.random.seed(1)"
   ]
  },
  {
   "cell_type": "markdown",
   "metadata": {},
   "source": [
    "# Create random Reachable sets"
   ]
  },
  {
   "cell_type": "code",
   "execution_count": 3,
   "metadata": {},
   "outputs": [],
   "source": [
    "c = 5 # cache capacity\n",
    "k = 5 # each user should be in at most K reachable sets\n",
    "m = 2 # at most M items can be initially recommended to each user\n",
    "L = 5 # the total number of items that the user will receive either through \n",
    "# direct recommendation or indirectly (because it is in reachable sets of users to whom items \n",
    "#have been recommended) should not be more than L\n",
    "number_of_items = 10\n",
    "number_of_users = 12\n",
    "items= np.array(range(0,number_of_items)) # videos\n",
    "users = np.array(range(0,number_of_users)) # users\n",
    "# initialize x0 for the optimization\n",
    "x = np.full(len(items),0.5)\n",
    "y = np.full((len(items), len(users)),0.5)\n",
    "x0 = np.concatenate([x.flatten(), y.flatten()])\n",
    "# Random Reachable sets\n",
    "reachable_sets = np.array(np.array([[np.array(random.sample(list(users), random.choice(users))) for user in users] for i in items]))\n",
    "I = np.zeros((len(items), len(users), len(users)))\n",
    "for i in items:\n",
    "    for u in users:\n",
    "        for v in reachable_sets[i][u]:\n",
    "            I[i][u][v] = 1"
   ]
  },
  {
   "cell_type": "markdown",
   "metadata": {},
   "source": [
    "# Objective function"
   ]
  },
  {
   "cell_type": "code",
   "execution_count": 4,
   "metadata": {},
   "outputs": [],
   "source": [
    "def objective(z):\n",
    "    x = z[:len(items)]\n",
    "    y = z[len(items):].reshape(len(items),len(users))\n",
    "    \n",
    "    #The first term in (1) counts the users to which an item is \n",
    "    #initially recommended and the users in the ensuing reachable sets\n",
    "    #first_term = sum([(1+len(reachable_sets[i][u])) * y[i][u] for u in users])\n",
    "    #The second term in (1) is due to the overlap of reachable sets Riu,Riv\n",
    "    #second_term = 0.5*sum([sum([len(set(reachable_sets[i][u])&set(reachable_sets[i][v]))*y[i][u]*y[i][v] for v in users if v!=u]) for u in users])\n",
    "    # Ekfonisi\n",
    "    #return -sum([x[i]*(sum([(1+len(reachable_sets[i][u])) * y[i][u] for u in users]) - 0.5*sum([sum([len(set(reachable_sets[i][u])&set(reachable_sets[i][v]))*y[i][u]*y[i][v] for v in users if v!=u]) for u in users])) for i in items])\n",
    "    # Paper\n",
    "    return -sum([x[i]*sum([(1+len(reachable_sets[i][u])) * y[i][u] - 0.5*sum([len(set(reachable_sets[i][u])&set(reachable_sets[i][v]))*y[i][u]*y[i][v] for v in users if v!=u]) for u in users]) for i in items])"
   ]
  },
  {
   "cell_type": "markdown",
   "metadata": {},
   "source": [
    "# Constraint (2) is the cache capacity constraint"
   ]
  },
  {
   "cell_type": "code",
   "execution_count": 5,
   "metadata": {},
   "outputs": [],
   "source": [
    "def constraint2(z):  \n",
    "    x = z[:len(items)]\n",
    "    \n",
    "    return sum([x[i] for i in items]) - c"
   ]
  },
  {
   "cell_type": "markdown",
   "metadata": {},
   "source": [
    "# Constraint (3) says that at most M items can be initially recommended to each user"
   ]
  },
  {
   "cell_type": "code",
   "execution_count": 6,
   "metadata": {},
   "outputs": [],
   "source": [
    "def constraint3(z):  \n",
    "    y = z[len(items):].reshape(len(items),len(users))\n",
    "    \n",
    "    return [(-sum([y[i][u] for i in items]))+m for u in users]"
   ]
  },
  {
   "cell_type": "markdown",
   "metadata": {},
   "source": [
    "# Constraint (4) says that each user should be in at most K reachable sets these capture content consumption, attention span or time constraints"
   ]
  },
  {
   "cell_type": "code",
   "execution_count": 7,
   "metadata": {},
   "outputs": [],
   "source": [
    "def constraint4(z):  \n",
    "    y = z[len(items):].reshape(len(items),len(users))\n",
    "    \n",
    "    return [-sum([sum([I[i][u][v]*y[i][u] for u in users]) for i in items])+k for u in users]"
   ]
  },
  {
   "cell_type": "markdown",
   "metadata": {},
   "source": [
    "# Constraint (6) says that the total number of items that the user will receive either through direct recommendation or indirectly (because it is in reachable sets of users to whom items have been recommended) should not be more than L"
   ]
  },
  {
   "cell_type": "code",
   "execution_count": 8,
   "metadata": {},
   "outputs": [],
   "source": [
    "def constraint6(z):\n",
    "    y = z[len(items):].reshape(len(items),len(users))\n",
    "    \n",
    "\n",
    "    return [-sum([y[i][u] for i in items]) - sum([sum([I[i][u][v]*y[i][u] for v in users]) for i in items])+L for u in users]"
   ]
  },
  {
   "cell_type": "markdown",
   "metadata": {},
   "source": [
    "# Solve"
   ]
  },
  {
   "cell_type": "code",
   "execution_count": 9,
   "metadata": {
    "scrolled": false
   },
   "outputs": [
    {
     "name": "stdout",
     "output_type": "stream",
     "text": [
      "Initial Objective: -28.5\n"
     ]
    }
   ],
   "source": [
    "con2 = {'type': 'eq', 'fun': constraint2} \n",
    "con3 = {'type': 'ineq', 'fun': constraint3} \n",
    "con4 = {'type': 'ineq', 'fun': constraint4} \n",
    "con6 = {'type': 'ineq', 'fun': constraint6}\n",
    "cons = ([con2, con6])\n",
    "# Bounds\n",
    "b = (0.0,1.0)\n",
    "bnds = [b for i in range(len(x0))]\n",
    "\n",
    "# show initial objective\n",
    "print('Initial Objective: ' + str(-1*objective(x0)))\n",
    "\n",
    "solution = minimize(objective, x0, method='SLSQP', bounds=bnds, constraints=cons)"
   ]
  },
  {
   "cell_type": "code",
   "execution_count": 10,
   "metadata": {},
   "outputs": [
    {
     "name": "stdout",
     "output_type": "stream",
     "text": [
      "Final Objective: 55.75198412743564\n"
     ]
    }
   ],
   "source": [
    "x = solution.x\n",
    "\n",
    "# show final objective\n",
    "print('Final Objective: ' + str(-1*objective(x)))"
   ]
  },
  {
   "cell_type": "code",
   "execution_count": 11,
   "metadata": {},
   "outputs": [
    {
     "data": {
      "text/plain": [
       "     fun: -55.75198412743564\n",
       "     jac: array([ -9.99987316,   0.        , -14.12512875,   0.        ,\n",
       "         0.        ,   0.        , -11.38888741,  -8.33333349,\n",
       "       -11.90476179,   0.        ,  -3.        ,  -6.3125639 ,\n",
       "        -1.0625639 ,  -3.        ,  -2.        ,  -6.0625639 ,\n",
       "        -3.25      ,  -3.5       ,  -2.5       ,  -1.        ,\n",
       "        -1.        ,  -3.3125639 ,   0.        ,   0.        ,\n",
       "         0.        ,   0.        ,   0.        ,   0.        ,\n",
       "         0.        ,   0.        ,   0.        ,   0.        ,\n",
       "         0.        ,   0.        ,  -2.12495708,  -2.12495708,\n",
       "        -2.74991417,  -4.        ,  -3.        ,  -3.24991417,\n",
       "        -2.5       ,  -2.        ,  -1.        ,  -3.        ,\n",
       "        -0.62495708,  -2.        ,   0.        ,   0.        ,\n",
       "         0.        ,   0.        ,   0.        ,   0.        ,\n",
       "         0.        ,   0.        ,   0.        ,   0.        ,\n",
       "         0.        ,   0.        ,   0.        ,   0.        ,\n",
       "         0.        ,   0.        ,   0.        ,   0.        ,\n",
       "         0.        ,   0.        ,   0.        ,   0.        ,\n",
       "         0.        ,   0.        ,   0.        ,   0.        ,\n",
       "         0.        ,   0.        ,   0.        ,   0.        ,\n",
       "         0.        ,   0.        ,   0.        ,   0.        ,\n",
       "         0.        ,   0.        ,  -3.33333397,  -0.66666698,\n",
       "        -3.        ,  -1.66666698,  -1.        ,  -1.66666698,\n",
       "        -3.        ,  -3.83333397,  -0.83333397,  -0.66666698,\n",
       "        -7.16666698,  -4.66666698,  -4.        ,  -3.66666698,\n",
       "        -2.66666698,  -2.66666698,  -5.66666698,  -1.        ,\n",
       "        -2.66666698,  -3.        ,  -5.        ,  -4.66666698,\n",
       "        -0.66666698,  -3.33333349,  -3.04761934,  -1.        ,\n",
       "        -2.        ,  -3.14285707,  -2.80952406,  -5.71428585,\n",
       "        -2.95238113,  -2.28571463,  -5.66666651,  -2.66666651,\n",
       "        -2.85714293,  -3.38095236,   0.        ,   0.        ,\n",
       "         0.        ,   0.        ,   0.        ,   0.        ,\n",
       "         0.        ,   0.        ,   0.        ,   0.        ,\n",
       "         0.        ,   0.        ])\n",
       " message: 'Optimization terminated successfully.'\n",
       "    nfev: 2388\n",
       "     nit: 19\n",
       "    njev: 18\n",
       "  status: 0\n",
       " success: True\n",
       "       x: array([1.00000000e+00, 0.00000000e+00, 1.00000000e+00, 0.00000000e+00,\n",
       "       0.00000000e+00, 0.00000000e+00, 1.00000000e+00, 1.00000000e+00,\n",
       "       1.00000000e+00, 0.00000000e+00, 1.00000000e+00, 5.09025841e-12,\n",
       "       8.86206020e-13, 2.42502937e-12, 6.87436485e-01, 4.96901560e-12,\n",
       "       5.00000000e-01, 7.50000000e-01, 1.99491581e-12, 8.05291019e-13,\n",
       "       1.00000000e+00, 2.66061269e-12, 0.00000000e+00, 3.49326386e-15,\n",
       "       0.00000000e+00, 6.24554877e-15, 1.72456642e-14, 6.36007753e-14,\n",
       "       0.00000000e+00, 0.00000000e+00, 0.00000000e+00, 0.00000000e+00,\n",
       "       0.00000000e+00, 9.93961711e-15, 1.70272549e-12, 1.70892383e-12,\n",
       "       2.21995325e-12, 1.00000000e+00, 8.75042856e-01, 2.69618045e-12,\n",
       "       1.00000000e+00, 1.00000000e+00, 1.00000000e+00, 5.00000000e-01,\n",
       "       5.02574007e-13, 1.60818165e-12, 0.00000000e+00, 1.02534924e-15,\n",
       "       4.70323947e-15, 4.60339302e-15, 3.30754598e-14, 5.19770734e-14,\n",
       "       3.46930918e-15, 0.00000000e+00, 0.00000000e+00, 0.00000000e+00,\n",
       "       0.00000000e+00, 1.06726300e-14, 6.01554920e-15, 7.14027731e-17,\n",
       "       1.43027500e-14, 7.04924016e-16, 1.78888683e-14, 4.80824201e-14,\n",
       "       1.69529527e-15, 0.00000000e+00, 0.00000000e+00, 0.00000000e+00,\n",
       "       0.00000000e+00, 4.23223751e-15, 4.37768788e-15, 3.82629375e-15,\n",
       "       0.00000000e+00, 8.00160777e-16, 1.80809404e-14, 6.77719811e-14,\n",
       "       0.00000000e+00, 7.53422573e-16, 0.00000000e+00, 0.00000000e+00,\n",
       "       0.00000000e+00, 1.54531414e-15, 2.67983255e-12, 5.36526177e-13,\n",
       "       2.42487125e-12, 5.00000000e-01, 9.99998464e-01, 1.00000000e+00,\n",
       "       2.41329728e-12, 3.05662395e-12, 6.47648250e-13, 5.26539466e-13,\n",
       "       3.33333333e-01, 8.33333333e-01, 3.33333333e-01, 1.00000000e+00,\n",
       "       1.00000000e+00, 2.14526393e-12, 4.59003170e-12, 8.29150340e-13,\n",
       "       2.14376250e-12, 2.39429440e-12, 4.01475283e-12, 3.74901425e-12,\n",
       "       5.32992664e-13, 2.68313894e-12, 2.45339969e-12, 1.00000000e+00,\n",
       "       1.00000000e+00, 2.53729148e-12, 2.27859618e-12, 3.33333333e-01,\n",
       "       2.37431940e-12, 1.84439653e-12, 5.71428571e-01, 1.00000000e+00,\n",
       "       2.29609322e-12, 2.72361179e-12, 1.38055506e-15, 9.86215135e-15,\n",
       "       2.92186860e-15, 0.00000000e+00, 7.34632040e-15, 7.45129396e-14,\n",
       "       1.12929913e-15, 0.00000000e+00, 0.00000000e+00, 0.00000000e+00,\n",
       "       0.00000000e+00, 0.00000000e+00])"
      ]
     },
     "execution_count": 11,
     "metadata": {},
     "output_type": "execute_result"
    }
   ],
   "source": [
    "solution"
   ]
  },
  {
   "cell_type": "code",
   "execution_count": 12,
   "metadata": {},
   "outputs": [
    {
     "data": {
      "text/plain": [
       "(130,)"
      ]
     },
     "execution_count": 12,
     "metadata": {},
     "output_type": "execute_result"
    }
   ],
   "source": [
    "solution.x.shape"
   ]
  },
  {
   "cell_type": "code",
   "execution_count": 13,
   "metadata": {},
   "outputs": [],
   "source": [
    "x = solution.x[:len(items)].round()\n",
    "y = solution.x[len(items):].reshape(len(items),len(users)).round()"
   ]
  },
  {
   "cell_type": "markdown",
   "metadata": {},
   "source": [
    "# Solution"
   ]
  },
  {
   "cell_type": "markdown",
   "metadata": {},
   "source": [
    "## Items in cache"
   ]
  },
  {
   "cell_type": "code",
   "execution_count": 14,
   "metadata": {},
   "outputs": [
    {
     "data": {
      "text/plain": [
       "array([1., 0., 1., 0., 0., 0., 1., 1., 1., 0.])"
      ]
     },
     "execution_count": 14,
     "metadata": {},
     "output_type": "execute_result"
    }
   ],
   "source": [
    "x"
   ]
  },
  {
   "cell_type": "code",
   "execution_count": 15,
   "metadata": {},
   "outputs": [
    {
     "data": {
      "text/plain": [
       "5.0"
      ]
     },
     "execution_count": 15,
     "metadata": {},
     "output_type": "execute_result"
    }
   ],
   "source": [
    "x.sum()"
   ]
  },
  {
   "cell_type": "code",
   "execution_count": 16,
   "metadata": {},
   "outputs": [
    {
     "data": {
      "text/plain": [
       "(10,)"
      ]
     },
     "execution_count": 16,
     "metadata": {},
     "output_type": "execute_result"
    }
   ],
   "source": [
    "x.shape"
   ]
  },
  {
   "cell_type": "markdown",
   "metadata": {},
   "source": [
    "## Recommended items"
   ]
  },
  {
   "cell_type": "code",
   "execution_count": 17,
   "metadata": {},
   "outputs": [
    {
     "data": {
      "text/plain": [
       "array([[1., 0., 0., 0., 1., 0., 1., 1., 0., 0., 1., 0.],\n",
       "       [0., 0., 0., 0., 0., 0., 0., 0., 0., 0., 0., 0.],\n",
       "       [0., 0., 0., 1., 1., 0., 1., 1., 1., 1., 0., 0.],\n",
       "       [0., 0., 0., 0., 0., 0., 0., 0., 0., 0., 0., 0.],\n",
       "       [0., 0., 0., 0., 0., 0., 0., 0., 0., 0., 0., 0.],\n",
       "       [0., 0., 0., 0., 0., 0., 0., 0., 0., 0., 0., 0.],\n",
       "       [0., 0., 0., 1., 1., 1., 0., 0., 0., 0., 0., 1.],\n",
       "       [0., 1., 1., 0., 0., 0., 0., 0., 0., 0., 0., 0.],\n",
       "       [0., 1., 1., 0., 0., 0., 0., 0., 1., 1., 0., 0.],\n",
       "       [0., 0., 0., 0., 0., 0., 0., 0., 0., 0., 0., 0.]])"
      ]
     },
     "execution_count": 17,
     "metadata": {},
     "output_type": "execute_result"
    }
   ],
   "source": [
    "y"
   ]
  },
  {
   "cell_type": "code",
   "execution_count": 18,
   "metadata": {},
   "outputs": [
    {
     "data": {
      "text/plain": [
       "array([1., 2., 2., 2., 3., 1., 2., 2., 2., 2., 1., 1.])"
      ]
     },
     "execution_count": 18,
     "metadata": {},
     "output_type": "execute_result"
    }
   ],
   "source": [
    "y.sum(axis=0) # items recommended to each user"
   ]
  },
  {
   "cell_type": "code",
   "execution_count": 19,
   "metadata": {},
   "outputs": [
    {
     "data": {
      "text/plain": [
       "(10, 12)"
      ]
     },
     "execution_count": 19,
     "metadata": {},
     "output_type": "execute_result"
    }
   ],
   "source": [
    "y.shape"
   ]
  },
  {
   "cell_type": "code",
   "execution_count": 20,
   "metadata": {},
   "outputs": [],
   "source": [
    "# x = cp.Variable(x.shape)\n",
    "# y = cp.Variable(y.shape)\n",
    "# prob = cp.Problem(cp.Maximize(cp.sum(x*cp.sum())),\n",
    "#                  [x<=1,\n",
    "#                   x>=0,\n",
    "#                   y<=1,\n",
    "#                   y>=0\n",
    "                     \n",
    "# #                   sum([x[i] for i in items]) == c,\n",
    "# #                  [sum([y[i][u] for i in items]) <= m for u in users],\n",
    "# #                  [sum([sum([I[i][u][v]*y[i][u] for u in users]) for i in items]) <= k for u in users]\n",
    "#                   ])\n",
    "# prob.solve()"
   ]
  },
  {
   "cell_type": "code",
   "execution_count": null,
   "metadata": {},
   "outputs": [],
   "source": []
  }
 ],
 "metadata": {
  "kernelspec": {
   "display_name": "env",
   "language": "python",
   "name": "env"
  },
  "language_info": {
   "codemirror_mode": {
    "name": "ipython",
    "version": 3
   },
   "file_extension": ".py",
   "mimetype": "text/x-python",
   "name": "python",
   "nbconvert_exporter": "python",
   "pygments_lexer": "ipython3",
   "version": "3.5.2"
  }
 },
 "nbformat": 4,
 "nbformat_minor": 2
}
